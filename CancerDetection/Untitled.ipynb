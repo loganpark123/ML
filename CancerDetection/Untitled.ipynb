{
 "cells": [
  {
   "cell_type": "code",
   "execution_count": 1,
   "metadata": {},
   "outputs": [],
   "source": [
    "import numpy as np # linear algebra\n",
    "import pandas as pd # data processing, CSV file I/O (e.g. pd.read_csv)\n",
    "import matplotlib.pyplot as plt # data visualization\n",
    "import seaborn as sns # statistical data visualization\n",
    "%matplotlib inline"
   ]
  },
  {
   "cell_type": "code",
   "execution_count": 2,
   "metadata": {},
   "outputs": [],
   "source": [
    "data = 'breast-cancer-wisconsin.csv'\n",
    "df = pd.read_csv(data, header=None)\n",
    "names = ['code', 'clump-thickness', 'cell-size', 'cell-shape', 'marginal-adhesion',\n",
    "'single-epithelial', 'bare-nuclei', 'bland-chromatin', 'normal-nucleoli', 'mitosis', 'Class']\n",
    "df.columns = names"
   ]
  },
  {
   "cell_type": "code",
   "execution_count": 3,
   "metadata": {},
   "outputs": [],
   "source": [
    "df = df.replace(to_replace='?', value=0)"
   ]
  },
  {
   "cell_type": "code",
   "execution_count": 4,
   "metadata": {},
   "outputs": [],
   "source": [
    "X = df.iloc[:,1:10]"
   ]
  },
  {
   "cell_type": "code",
   "execution_count": 5,
   "metadata": {},
   "outputs": [
    {
     "data": {
      "text/html": [
       "<div>\n",
       "<style scoped>\n",
       "    .dataframe tbody tr th:only-of-type {\n",
       "        vertical-align: middle;\n",
       "    }\n",
       "\n",
       "    .dataframe tbody tr th {\n",
       "        vertical-align: top;\n",
       "    }\n",
       "\n",
       "    .dataframe thead th {\n",
       "        text-align: right;\n",
       "    }\n",
       "</style>\n",
       "<table border=\"1\" class=\"dataframe\">\n",
       "  <thead>\n",
       "    <tr style=\"text-align: right;\">\n",
       "      <th></th>\n",
       "      <th>code</th>\n",
       "      <th>clump-thickness</th>\n",
       "      <th>cell-size</th>\n",
       "      <th>cell-shape</th>\n",
       "      <th>marginal-adhesion</th>\n",
       "      <th>single-epithelial</th>\n",
       "      <th>bare-nuclei</th>\n",
       "      <th>bland-chromatin</th>\n",
       "      <th>normal-nucleoli</th>\n",
       "      <th>mitosis</th>\n",
       "      <th>Class</th>\n",
       "    </tr>\n",
       "  </thead>\n",
       "  <tbody>\n",
       "    <tr>\n",
       "      <th>0</th>\n",
       "      <td>1000025</td>\n",
       "      <td>5</td>\n",
       "      <td>1</td>\n",
       "      <td>1</td>\n",
       "      <td>1</td>\n",
       "      <td>2</td>\n",
       "      <td>1</td>\n",
       "      <td>3</td>\n",
       "      <td>1</td>\n",
       "      <td>1</td>\n",
       "      <td>2</td>\n",
       "    </tr>\n",
       "    <tr>\n",
       "      <th>1</th>\n",
       "      <td>1002945</td>\n",
       "      <td>5</td>\n",
       "      <td>4</td>\n",
       "      <td>4</td>\n",
       "      <td>5</td>\n",
       "      <td>7</td>\n",
       "      <td>10</td>\n",
       "      <td>3</td>\n",
       "      <td>2</td>\n",
       "      <td>1</td>\n",
       "      <td>2</td>\n",
       "    </tr>\n",
       "    <tr>\n",
       "      <th>2</th>\n",
       "      <td>1015425</td>\n",
       "      <td>3</td>\n",
       "      <td>1</td>\n",
       "      <td>1</td>\n",
       "      <td>1</td>\n",
       "      <td>2</td>\n",
       "      <td>2</td>\n",
       "      <td>3</td>\n",
       "      <td>1</td>\n",
       "      <td>1</td>\n",
       "      <td>2</td>\n",
       "    </tr>\n",
       "    <tr>\n",
       "      <th>3</th>\n",
       "      <td>1016277</td>\n",
       "      <td>6</td>\n",
       "      <td>8</td>\n",
       "      <td>8</td>\n",
       "      <td>1</td>\n",
       "      <td>3</td>\n",
       "      <td>4</td>\n",
       "      <td>3</td>\n",
       "      <td>7</td>\n",
       "      <td>1</td>\n",
       "      <td>2</td>\n",
       "    </tr>\n",
       "    <tr>\n",
       "      <th>4</th>\n",
       "      <td>1017023</td>\n",
       "      <td>4</td>\n",
       "      <td>1</td>\n",
       "      <td>1</td>\n",
       "      <td>3</td>\n",
       "      <td>2</td>\n",
       "      <td>1</td>\n",
       "      <td>3</td>\n",
       "      <td>1</td>\n",
       "      <td>1</td>\n",
       "      <td>2</td>\n",
       "    </tr>\n",
       "  </tbody>\n",
       "</table>\n",
       "</div>"
      ],
      "text/plain": [
       "      code  clump-thickness  cell-size  cell-shape  marginal-adhesion  \\\n",
       "0  1000025                5          1           1                  1   \n",
       "1  1002945                5          4           4                  5   \n",
       "2  1015425                3          1           1                  1   \n",
       "3  1016277                6          8           8                  1   \n",
       "4  1017023                4          1           1                  3   \n",
       "\n",
       "   single-epithelial bare-nuclei  bland-chromatin  normal-nucleoli  mitosis  \\\n",
       "0                  2           1                3                1        1   \n",
       "1                  7          10                3                2        1   \n",
       "2                  2           2                3                1        1   \n",
       "3                  3           4                3                7        1   \n",
       "4                  2           1                3                1        1   \n",
       "\n",
       "   Class  \n",
       "0      2  \n",
       "1      2  \n",
       "2      2  \n",
       "3      2  \n",
       "4      2  "
      ]
     },
     "execution_count": 5,
     "metadata": {},
     "output_type": "execute_result"
    }
   ],
   "source": [
    "y = df.iloc[:,10]\n",
    "df.head()"
   ]
  },
  {
   "cell_type": "code",
   "execution_count": 6,
   "metadata": {},
   "outputs": [],
   "source": [
    "from sklearn.model_selection import train_test_split\n",
    "\n",
    "X_train, X_test, y_train, y_test = train_test_split(X, y, test_size = 0.2, random_state = 9)"
   ]
  },
  {
   "cell_type": "code",
   "execution_count": 7,
   "metadata": {},
   "outputs": [
    {
     "name": "stderr",
     "output_type": "stream",
     "text": [
      "C:\\Users\\Logan\\anaconda3\\lib\\site-packages\\sklearn\\neural_network\\_multilayer_perceptron.py:582: ConvergenceWarning: Stochastic Optimizer: Maximum iterations (500) reached and the optimization hasn't converged yet.\n",
      "  warnings.warn(\n"
     ]
    }
   ],
   "source": [
    "from sklearn.neural_network import  MLPClassifier\n",
    "clf = MLPClassifier(hidden_layer_sizes = (10,10,10), max_iter=500).fit(X_train, y_train)"
   ]
  },
  {
   "cell_type": "code",
   "execution_count": 8,
   "metadata": {},
   "outputs": [
    {
     "name": "stdout",
     "output_type": "stream",
     "text": [
      "cross Validation scores\n"
     ]
    },
    {
     "name": "stderr",
     "output_type": "stream",
     "text": [
      "C:\\Users\\Logan\\anaconda3\\lib\\site-packages\\sklearn\\neural_network\\_multilayer_perceptron.py:582: ConvergenceWarning: Stochastic Optimizer: Maximum iterations (500) reached and the optimization hasn't converged yet.\n",
      "  warnings.warn(\n",
      "C:\\Users\\Logan\\anaconda3\\lib\\site-packages\\sklearn\\neural_network\\_multilayer_perceptron.py:582: ConvergenceWarning: Stochastic Optimizer: Maximum iterations (500) reached and the optimization hasn't converged yet.\n",
      "  warnings.warn(\n",
      "C:\\Users\\Logan\\anaconda3\\lib\\site-packages\\sklearn\\neural_network\\_multilayer_perceptron.py:582: ConvergenceWarning: Stochastic Optimizer: Maximum iterations (500) reached and the optimization hasn't converged yet.\n",
      "  warnings.warn(\n"
     ]
    },
    {
     "data": {
      "text/plain": [
       "array([0.95535714, 0.97321429, 0.97321429, 0.96428571, 0.94594595])"
      ]
     },
     "execution_count": 8,
     "metadata": {},
     "output_type": "execute_result"
    }
   ],
   "source": [
    "from sklearn.model_selection import cross_val_score\n",
    "print(\"cross Validation scores\") \n",
    "cross_val_score(clf,X_train,y_train,cv=5)"
   ]
  },
  {
   "cell_type": "code",
   "execution_count": 9,
   "metadata": {},
   "outputs": [
    {
     "data": {
      "text/plain": [
       "array([2, 2, 2, 2, 2, 4, 4, 2, 2, 2, 4, 4, 4, 2, 2, 2, 2, 2, 4, 4, 2, 4,\n",
       "       2, 2, 2, 2, 2, 2, 2, 2, 2, 2, 4, 4, 2, 2, 2, 4, 2, 4, 2, 2, 2, 2,\n",
       "       2, 2, 2, 4, 2, 2, 2, 2, 4, 4, 2, 2, 2, 2, 2, 2, 4, 4, 2, 4, 4, 2,\n",
       "       2, 4, 4, 2, 2, 4, 4, 2, 4, 2, 2, 4, 4, 4, 2, 2, 4, 2, 2, 4, 4, 4,\n",
       "       4, 4, 4, 2, 2, 2, 4, 4, 2, 4, 2, 2, 2, 4, 4, 2, 2, 4, 4, 2, 2, 2,\n",
       "       4, 2, 2, 4, 2, 2, 2, 4, 2, 4, 2, 2, 2, 2, 2, 4, 2, 2, 4, 4, 2, 2,\n",
       "       2, 4, 2, 2, 2, 2, 2, 2], dtype=int64)"
      ]
     },
     "execution_count": 9,
     "metadata": {},
     "output_type": "execute_result"
    }
   ],
   "source": [
    "clf.predict(X_test)"
   ]
  },
  {
   "cell_type": "code",
   "execution_count": 10,
   "metadata": {},
   "outputs": [
    {
     "name": "stdout",
     "output_type": "stream",
     "text": [
      "[[87  2]\n",
      " [ 4 47]]\n",
      "              precision    recall  f1-score   support\n",
      "\n",
      "           2       0.96      0.98      0.97        89\n",
      "           4       0.96      0.92      0.94        51\n",
      "\n",
      "    accuracy                           0.96       140\n",
      "   macro avg       0.96      0.95      0.95       140\n",
      "weighted avg       0.96      0.96      0.96       140\n",
      "\n"
     ]
    }
   ],
   "source": [
    "from sklearn.metrics import confusion_matrix\n",
    "from sklearn.metrics import classification_report\n",
    "prediction = clf.predict(X_test)\n",
    "print(\"Confusion Matrix:\")\n",
    "print(confusion_matrix(y_test,prediction))\n",
    "print(\"Classification Report:\")\n",
    "print(classification_report(y_test,prediction))"
   ]
  },
  {
   "cell_type": "code",
   "execution_count": 11,
   "metadata": {},
   "outputs": [],
   "source": [
    "parameters = {\n",
    "'solver': ['adam', 'lbfgs', 'sgd'],\n",
    "'max_iter': [1000, 1200, 1500, 2000],\n",
    "'hidden_layer_sizes': [(10,10,10), (10, 5), (5,5), (100, 10, 50)],\n",
    "'alpha': [.0001, .005],\n",
    "'learning_rate': ['constant', 'adaptive']\n",
    "}"
   ]
  },
  {
   "cell_type": "code",
   "execution_count": 15,
   "metadata": {},
   "outputs": [
    {
     "name": "stderr",
     "output_type": "stream",
     "text": [
      "C:\\Users\\Logan\\anaconda3\\lib\\site-packages\\sklearn\\neural_network\\_multilayer_perceptron.py:582: ConvergenceWarning: Stochastic Optimizer: Maximum iterations (1000) reached and the optimization hasn't converged yet.\n",
      "  warnings.warn(\n",
      "C:\\Users\\Logan\\anaconda3\\lib\\site-packages\\sklearn\\neural_network\\_multilayer_perceptron.py:582: ConvergenceWarning: Stochastic Optimizer: Maximum iterations (1000) reached and the optimization hasn't converged yet.\n",
      "  warnings.warn(\n",
      "C:\\Users\\Logan\\anaconda3\\lib\\site-packages\\sklearn\\neural_network\\_multilayer_perceptron.py:582: ConvergenceWarning: Stochastic Optimizer: Maximum iterations (1000) reached and the optimization hasn't converged yet.\n",
      "  warnings.warn(\n",
      "C:\\Users\\Logan\\anaconda3\\lib\\site-packages\\sklearn\\neural_network\\_multilayer_perceptron.py:582: ConvergenceWarning: Stochastic Optimizer: Maximum iterations (1200) reached and the optimization hasn't converged yet.\n",
      "  warnings.warn(\n",
      "C:\\Users\\Logan\\anaconda3\\lib\\site-packages\\sklearn\\neural_network\\_multilayer_perceptron.py:582: ConvergenceWarning: Stochastic Optimizer: Maximum iterations (1000) reached and the optimization hasn't converged yet.\n",
      "  warnings.warn(\n",
      "C:\\Users\\Logan\\anaconda3\\lib\\site-packages\\sklearn\\neural_network\\_multilayer_perceptron.py:582: ConvergenceWarning: Stochastic Optimizer: Maximum iterations (1000) reached and the optimization hasn't converged yet.\n",
      "  warnings.warn(\n",
      "C:\\Users\\Logan\\anaconda3\\lib\\site-packages\\sklearn\\neural_network\\_multilayer_perceptron.py:582: ConvergenceWarning: Stochastic Optimizer: Maximum iterations (1000) reached and the optimization hasn't converged yet.\n",
      "  warnings.warn(\n",
      "C:\\Users\\Logan\\anaconda3\\lib\\site-packages\\sklearn\\neural_network\\_multilayer_perceptron.py:582: ConvergenceWarning: Stochastic Optimizer: Maximum iterations (1000) reached and the optimization hasn't converged yet.\n",
      "  warnings.warn(\n",
      "C:\\Users\\Logan\\anaconda3\\lib\\site-packages\\sklearn\\neural_network\\_multilayer_perceptron.py:582: ConvergenceWarning: Stochastic Optimizer: Maximum iterations (1200) reached and the optimization hasn't converged yet.\n",
      "  warnings.warn(\n",
      "C:\\Users\\Logan\\anaconda3\\lib\\site-packages\\sklearn\\neural_network\\_multilayer_perceptron.py:582: ConvergenceWarning: Stochastic Optimizer: Maximum iterations (1000) reached and the optimization hasn't converged yet.\n",
      "  warnings.warn(\n",
      "C:\\Users\\Logan\\anaconda3\\lib\\site-packages\\sklearn\\neural_network\\_multilayer_perceptron.py:582: ConvergenceWarning: Stochastic Optimizer: Maximum iterations (1200) reached and the optimization hasn't converged yet.\n",
      "  warnings.warn(\n",
      "C:\\Users\\Logan\\anaconda3\\lib\\site-packages\\sklearn\\neural_network\\_multilayer_perceptron.py:582: ConvergenceWarning: Stochastic Optimizer: Maximum iterations (1200) reached and the optimization hasn't converged yet.\n",
      "  warnings.warn(\n",
      "C:\\Users\\Logan\\anaconda3\\lib\\site-packages\\sklearn\\neural_network\\_multilayer_perceptron.py:582: ConvergenceWarning: Stochastic Optimizer: Maximum iterations (1500) reached and the optimization hasn't converged yet.\n",
      "  warnings.warn(\n",
      "C:\\Users\\Logan\\anaconda3\\lib\\site-packages\\sklearn\\neural_network\\_multilayer_perceptron.py:582: ConvergenceWarning: Stochastic Optimizer: Maximum iterations (1000) reached and the optimization hasn't converged yet.\n",
      "  warnings.warn(\n",
      "C:\\Users\\Logan\\anaconda3\\lib\\site-packages\\sklearn\\neural_network\\_multilayer_perceptron.py:582: ConvergenceWarning: Stochastic Optimizer: Maximum iterations (1000) reached and the optimization hasn't converged yet.\n",
      "  warnings.warn(\n",
      "C:\\Users\\Logan\\anaconda3\\lib\\site-packages\\sklearn\\neural_network\\_multilayer_perceptron.py:582: ConvergenceWarning: Stochastic Optimizer: Maximum iterations (1000) reached and the optimization hasn't converged yet.\n",
      "  warnings.warn(\n",
      "C:\\Users\\Logan\\anaconda3\\lib\\site-packages\\sklearn\\neural_network\\_multilayer_perceptron.py:582: ConvergenceWarning: Stochastic Optimizer: Maximum iterations (1000) reached and the optimization hasn't converged yet.\n",
      "  warnings.warn(\n",
      "C:\\Users\\Logan\\anaconda3\\lib\\site-packages\\sklearn\\neural_network\\_multilayer_perceptron.py:582: ConvergenceWarning: Stochastic Optimizer: Maximum iterations (1200) reached and the optimization hasn't converged yet.\n",
      "  warnings.warn(\n",
      "C:\\Users\\Logan\\anaconda3\\lib\\site-packages\\sklearn\\neural_network\\_multilayer_perceptron.py:582: ConvergenceWarning: Stochastic Optimizer: Maximum iterations (1000) reached and the optimization hasn't converged yet.\n",
      "  warnings.warn(\n",
      "C:\\Users\\Logan\\anaconda3\\lib\\site-packages\\sklearn\\neural_network\\_multilayer_perceptron.py:582: ConvergenceWarning: Stochastic Optimizer: Maximum iterations (1200) reached and the optimization hasn't converged yet.\n",
      "  warnings.warn(\n",
      "C:\\Users\\Logan\\anaconda3\\lib\\site-packages\\sklearn\\neural_network\\_multilayer_perceptron.py:582: ConvergenceWarning: Stochastic Optimizer: Maximum iterations (1000) reached and the optimization hasn't converged yet.\n",
      "  warnings.warn(\n",
      "C:\\Users\\Logan\\anaconda3\\lib\\site-packages\\sklearn\\neural_network\\_multilayer_perceptron.py:582: ConvergenceWarning: Stochastic Optimizer: Maximum iterations (1000) reached and the optimization hasn't converged yet.\n",
      "  warnings.warn(\n",
      "C:\\Users\\Logan\\anaconda3\\lib\\site-packages\\sklearn\\neural_network\\_multilayer_perceptron.py:582: ConvergenceWarning: Stochastic Optimizer: Maximum iterations (1000) reached and the optimization hasn't converged yet.\n",
      "  warnings.warn(\n",
      "C:\\Users\\Logan\\anaconda3\\lib\\site-packages\\sklearn\\neural_network\\_multilayer_perceptron.py:471: ConvergenceWarning: lbfgs failed to converge (status=1):\n",
      "STOP: TOTAL NO. of ITERATIONS REACHED LIMIT.\n",
      "\n",
      "Increase the number of iterations (max_iter) or scale the data as shown in:\n",
      "    https://scikit-learn.org/stable/modules/preprocessing.html\n",
      "  self.n_iter_ = _check_optimize_result(\"lbfgs\", opt_res, self.max_iter)\n",
      "C:\\Users\\Logan\\anaconda3\\lib\\site-packages\\sklearn\\neural_network\\_multilayer_perceptron.py:582: ConvergenceWarning: Stochastic Optimizer: Maximum iterations (1000) reached and the optimization hasn't converged yet.\n",
      "  warnings.warn(\n",
      "C:\\Users\\Logan\\anaconda3\\lib\\site-packages\\sklearn\\neural_network\\_multilayer_perceptron.py:582: ConvergenceWarning: Stochastic Optimizer: Maximum iterations (1000) reached and the optimization hasn't converged yet.\n",
      "  warnings.warn(\n",
      "C:\\Users\\Logan\\anaconda3\\lib\\site-packages\\sklearn\\neural_network\\_multilayer_perceptron.py:582: ConvergenceWarning: Stochastic Optimizer: Maximum iterations (1200) reached and the optimization hasn't converged yet.\n",
      "  warnings.warn(\n",
      "C:\\Users\\Logan\\anaconda3\\lib\\site-packages\\sklearn\\neural_network\\_multilayer_perceptron.py:582: ConvergenceWarning: Stochastic Optimizer: Maximum iterations (1000) reached and the optimization hasn't converged yet.\n",
      "  warnings.warn(\n",
      "C:\\Users\\Logan\\anaconda3\\lib\\site-packages\\sklearn\\neural_network\\_multilayer_perceptron.py:582: ConvergenceWarning: Stochastic Optimizer: Maximum iterations (1000) reached and the optimization hasn't converged yet.\n",
      "  warnings.warn(\n",
      "C:\\Users\\Logan\\anaconda3\\lib\\site-packages\\sklearn\\neural_network\\_multilayer_perceptron.py:582: ConvergenceWarning: Stochastic Optimizer: Maximum iterations (1200) reached and the optimization hasn't converged yet.\n",
      "  warnings.warn(\n",
      "C:\\Users\\Logan\\anaconda3\\lib\\site-packages\\sklearn\\neural_network\\_multilayer_perceptron.py:582: ConvergenceWarning: Stochastic Optimizer: Maximum iterations (1200) reached and the optimization hasn't converged yet.\n",
      "  warnings.warn(\n",
      "C:\\Users\\Logan\\anaconda3\\lib\\site-packages\\sklearn\\neural_network\\_multilayer_perceptron.py:582: ConvergenceWarning: Stochastic Optimizer: Maximum iterations (1000) reached and the optimization hasn't converged yet.\n",
      "  warnings.warn(\n",
      "C:\\Users\\Logan\\anaconda3\\lib\\site-packages\\sklearn\\neural_network\\_multilayer_perceptron.py:582: ConvergenceWarning: Stochastic Optimizer: Maximum iterations (1000) reached and the optimization hasn't converged yet.\n",
      "  warnings.warn(\n",
      "C:\\Users\\Logan\\anaconda3\\lib\\site-packages\\sklearn\\neural_network\\_multilayer_perceptron.py:582: ConvergenceWarning: Stochastic Optimizer: Maximum iterations (1000) reached and the optimization hasn't converged yet.\n",
      "  warnings.warn(\n"
     ]
    },
    {
     "name": "stdout",
     "output_type": "stream",
     "text": [
      "Best parameters set found on development set:\n",
      "\n",
      "{'alpha': 0.005, 'hidden_layer_sizes': (10, 5), 'learning_rate': 'constant', 'max_iter': 1200, 'solver': 'adam'}\n"
     ]
    }
   ],
   "source": [
    "from sklearn.model_selection import GridSearchCV\n",
    "from sklearn.metrics import classification_report\n",
    "from sklearn.svm import SVC\n",
    "gs = GridSearchCV(estimator=clf, param_grid=parameters, cv=3).fit(X_train, y_train)\n",
    "print(\"Best parameters set found on development set:\")\n",
    "print()\n",
    "print(gs.best_params_)"
   ]
  },
  {
   "cell_type": "code",
   "execution_count": 20,
   "metadata": {},
   "outputs": [
    {
     "name": "stdout",
     "output_type": "stream",
     "text": [
      "The best parameters are: {'alpha': 0.005, 'hidden_layer_sizes': (10, 5), 'learning_rate': 'constant', 'max_iter': 1200, 'solver': 'adam'}\n",
      "Grid scores on development set:\n",
      "\n",
      "Mean: 0.943 Std Dev: (+/-0.013) for the following Parameters: {'alpha': 0.0001, 'hidden_layer_sizes': (10, 10, 10), 'learning_rate': 'constant', 'max_iter': 1000, 'solver': 'adam'}\n",
      "Mean: 0.946 Std Dev: (+/-0.030) for the following Parameters: {'alpha': 0.0001, 'hidden_layer_sizes': (10, 10, 10), 'learning_rate': 'constant', 'max_iter': 1000, 'solver': 'lbfgs'}\n",
      "Mean: 0.957 Std Dev: (+/-0.023) for the following Parameters: {'alpha': 0.0001, 'hidden_layer_sizes': (10, 10, 10), 'learning_rate': 'constant', 'max_iter': 1000, 'solver': 'sgd'}\n",
      "Mean: 0.957 Std Dev: (+/-0.018) for the following Parameters: {'alpha': 0.0001, 'hidden_layer_sizes': (10, 10, 10), 'learning_rate': 'constant', 'max_iter': 1200, 'solver': 'adam'}\n",
      "Mean: 0.937 Std Dev: (+/-0.036) for the following Parameters: {'alpha': 0.0001, 'hidden_layer_sizes': (10, 10, 10), 'learning_rate': 'constant', 'max_iter': 1200, 'solver': 'lbfgs'}\n",
      "Mean: 0.954 Std Dev: (+/-0.013) for the following Parameters: {'alpha': 0.0001, 'hidden_layer_sizes': (10, 10, 10), 'learning_rate': 'constant', 'max_iter': 1200, 'solver': 'sgd'}\n",
      "Mean: 0.945 Std Dev: (+/-0.018) for the following Parameters: {'alpha': 0.0001, 'hidden_layer_sizes': (10, 10, 10), 'learning_rate': 'constant', 'max_iter': 1500, 'solver': 'adam'}\n",
      "Mean: 0.943 Std Dev: (+/-0.005) for the following Parameters: {'alpha': 0.0001, 'hidden_layer_sizes': (10, 10, 10), 'learning_rate': 'constant', 'max_iter': 1500, 'solver': 'lbfgs'}\n",
      "Mean: 0.948 Std Dev: (+/-0.018) for the following Parameters: {'alpha': 0.0001, 'hidden_layer_sizes': (10, 10, 10), 'learning_rate': 'constant', 'max_iter': 1500, 'solver': 'sgd'}\n",
      "Mean: 0.952 Std Dev: (+/-0.023) for the following Parameters: {'alpha': 0.0001, 'hidden_layer_sizes': (10, 10, 10), 'learning_rate': 'constant', 'max_iter': 2000, 'solver': 'adam'}\n",
      "Mean: 0.930 Std Dev: (+/-0.044) for the following Parameters: {'alpha': 0.0001, 'hidden_layer_sizes': (10, 10, 10), 'learning_rate': 'constant', 'max_iter': 2000, 'solver': 'lbfgs'}\n",
      "Mean: 0.948 Std Dev: (+/-0.028) for the following Parameters: {'alpha': 0.0001, 'hidden_layer_sizes': (10, 10, 10), 'learning_rate': 'constant', 'max_iter': 2000, 'solver': 'sgd'}\n",
      "Mean: 0.948 Std Dev: (+/-0.005) for the following Parameters: {'alpha': 0.0001, 'hidden_layer_sizes': (10, 10, 10), 'learning_rate': 'adaptive', 'max_iter': 1000, 'solver': 'adam'}\n",
      "Mean: 0.943 Std Dev: (+/-0.005) for the following Parameters: {'alpha': 0.0001, 'hidden_layer_sizes': (10, 10, 10), 'learning_rate': 'adaptive', 'max_iter': 1000, 'solver': 'lbfgs'}\n",
      "Mean: 0.945 Std Dev: (+/-0.018) for the following Parameters: {'alpha': 0.0001, 'hidden_layer_sizes': (10, 10, 10), 'learning_rate': 'adaptive', 'max_iter': 1000, 'solver': 'sgd'}\n",
      "Mean: 0.955 Std Dev: (+/-0.022) for the following Parameters: {'alpha': 0.0001, 'hidden_layer_sizes': (10, 10, 10), 'learning_rate': 'adaptive', 'max_iter': 1200, 'solver': 'adam'}\n",
      "Mean: 0.939 Std Dev: (+/-0.027) for the following Parameters: {'alpha': 0.0001, 'hidden_layer_sizes': (10, 10, 10), 'learning_rate': 'adaptive', 'max_iter': 1200, 'solver': 'lbfgs'}\n",
      "Mean: 0.955 Std Dev: (+/-0.022) for the following Parameters: {'alpha': 0.0001, 'hidden_layer_sizes': (10, 10, 10), 'learning_rate': 'adaptive', 'max_iter': 1200, 'solver': 'sgd'}\n",
      "Mean: 0.943 Std Dev: (+/-0.013) for the following Parameters: {'alpha': 0.0001, 'hidden_layer_sizes': (10, 10, 10), 'learning_rate': 'adaptive', 'max_iter': 1500, 'solver': 'adam'}\n",
      "Mean: 0.928 Std Dev: (+/-0.033) for the following Parameters: {'alpha': 0.0001, 'hidden_layer_sizes': (10, 10, 10), 'learning_rate': 'adaptive', 'max_iter': 1500, 'solver': 'lbfgs'}\n",
      "Mean: 0.950 Std Dev: (+/-0.022) for the following Parameters: {'alpha': 0.0001, 'hidden_layer_sizes': (10, 10, 10), 'learning_rate': 'adaptive', 'max_iter': 1500, 'solver': 'sgd'}\n",
      "Mean: 0.948 Std Dev: (+/-0.018) for the following Parameters: {'alpha': 0.0001, 'hidden_layer_sizes': (10, 10, 10), 'learning_rate': 'adaptive', 'max_iter': 2000, 'solver': 'adam'}\n",
      "Mean: 0.937 Std Dev: (+/-0.027) for the following Parameters: {'alpha': 0.0001, 'hidden_layer_sizes': (10, 10, 10), 'learning_rate': 'adaptive', 'max_iter': 2000, 'solver': 'lbfgs'}\n",
      "Mean: 0.946 Std Dev: (+/-0.038) for the following Parameters: {'alpha': 0.0001, 'hidden_layer_sizes': (10, 10, 10), 'learning_rate': 'adaptive', 'max_iter': 2000, 'solver': 'sgd'}\n",
      "Mean: 0.955 Std Dev: (+/-0.005) for the following Parameters: {'alpha': 0.0001, 'hidden_layer_sizes': (10, 5), 'learning_rate': 'constant', 'max_iter': 1000, 'solver': 'adam'}\n",
      "Mean: 0.936 Std Dev: (+/-0.009) for the following Parameters: {'alpha': 0.0001, 'hidden_layer_sizes': (10, 5), 'learning_rate': 'constant', 'max_iter': 1000, 'solver': 'lbfgs'}\n",
      "Mean: 0.943 Std Dev: (+/-0.028) for the following Parameters: {'alpha': 0.0001, 'hidden_layer_sizes': (10, 5), 'learning_rate': 'constant', 'max_iter': 1000, 'solver': 'sgd'}\n",
      "Mean: 0.948 Std Dev: (+/-0.031) for the following Parameters: {'alpha': 0.0001, 'hidden_layer_sizes': (10, 5), 'learning_rate': 'constant', 'max_iter': 1200, 'solver': 'adam'}\n",
      "Mean: 0.966 Std Dev: (+/-0.028) for the following Parameters: {'alpha': 0.0001, 'hidden_layer_sizes': (10, 5), 'learning_rate': 'constant', 'max_iter': 1200, 'solver': 'lbfgs'}\n",
      "Mean: 0.955 Std Dev: (+/-0.018) for the following Parameters: {'alpha': 0.0001, 'hidden_layer_sizes': (10, 5), 'learning_rate': 'constant', 'max_iter': 1200, 'solver': 'sgd'}\n",
      "Mean: 0.946 Std Dev: (+/-0.017) for the following Parameters: {'alpha': 0.0001, 'hidden_layer_sizes': (10, 5), 'learning_rate': 'constant', 'max_iter': 1500, 'solver': 'adam'}\n",
      "Mean: 0.921 Std Dev: (+/-0.059) for the following Parameters: {'alpha': 0.0001, 'hidden_layer_sizes': (10, 5), 'learning_rate': 'constant', 'max_iter': 1500, 'solver': 'lbfgs'}\n",
      "Mean: 0.948 Std Dev: (+/-0.025) for the following Parameters: {'alpha': 0.0001, 'hidden_layer_sizes': (10, 5), 'learning_rate': 'constant', 'max_iter': 1500, 'solver': 'sgd'}\n",
      "Mean: 0.954 Std Dev: (+/-0.013) for the following Parameters: {'alpha': 0.0001, 'hidden_layer_sizes': (10, 5), 'learning_rate': 'constant', 'max_iter': 2000, 'solver': 'adam'}\n",
      "Mean: 0.937 Std Dev: (+/-0.013) for the following Parameters: {'alpha': 0.0001, 'hidden_layer_sizes': (10, 5), 'learning_rate': 'constant', 'max_iter': 2000, 'solver': 'lbfgs'}\n",
      "Mean: 0.952 Std Dev: (+/-0.015) for the following Parameters: {'alpha': 0.0001, 'hidden_layer_sizes': (10, 5), 'learning_rate': 'constant', 'max_iter': 2000, 'solver': 'sgd'}\n",
      "Mean: 0.953 Std Dev: (+/-0.005) for the following Parameters: {'alpha': 0.0001, 'hidden_layer_sizes': (10, 5), 'learning_rate': 'adaptive', 'max_iter': 1000, 'solver': 'adam'}\n",
      "Mean: 0.937 Std Dev: (+/-0.014) for the following Parameters: {'alpha': 0.0001, 'hidden_layer_sizes': (10, 5), 'learning_rate': 'adaptive', 'max_iter': 1000, 'solver': 'lbfgs'}\n",
      "Mean: 0.950 Std Dev: (+/-0.005) for the following Parameters: {'alpha': 0.0001, 'hidden_layer_sizes': (10, 5), 'learning_rate': 'adaptive', 'max_iter': 1000, 'solver': 'sgd'}\n",
      "Mean: 0.952 Std Dev: (+/-0.023) for the following Parameters: {'alpha': 0.0001, 'hidden_layer_sizes': (10, 5), 'learning_rate': 'adaptive', 'max_iter': 1200, 'solver': 'adam'}\n",
      "Mean: 0.955 Std Dev: (+/-0.010) for the following Parameters: {'alpha': 0.0001, 'hidden_layer_sizes': (10, 5), 'learning_rate': 'adaptive', 'max_iter': 1200, 'solver': 'lbfgs'}\n",
      "Mean: 0.945 Std Dev: (+/-0.005) for the following Parameters: {'alpha': 0.0001, 'hidden_layer_sizes': (10, 5), 'learning_rate': 'adaptive', 'max_iter': 1200, 'solver': 'sgd'}\n",
      "Mean: 0.946 Std Dev: (+/-0.023) for the following Parameters: {'alpha': 0.0001, 'hidden_layer_sizes': (10, 5), 'learning_rate': 'adaptive', 'max_iter': 1500, 'solver': 'adam'}\n",
      "Mean: 0.943 Std Dev: (+/-0.022) for the following Parameters: {'alpha': 0.0001, 'hidden_layer_sizes': (10, 5), 'learning_rate': 'adaptive', 'max_iter': 1500, 'solver': 'lbfgs'}\n",
      "Mean: 0.948 Std Dev: (+/-0.022) for the following Parameters: {'alpha': 0.0001, 'hidden_layer_sizes': (10, 5), 'learning_rate': 'adaptive', 'max_iter': 1500, 'solver': 'sgd'}\n",
      "Mean: 0.955 Std Dev: (+/-0.014) for the following Parameters: {'alpha': 0.0001, 'hidden_layer_sizes': (10, 5), 'learning_rate': 'adaptive', 'max_iter': 2000, 'solver': 'adam'}\n",
      "Mean: 0.862 Std Dev: (+/-0.284) for the following Parameters: {'alpha': 0.0001, 'hidden_layer_sizes': (10, 5), 'learning_rate': 'adaptive', 'max_iter': 2000, 'solver': 'lbfgs'}\n",
      "Mean: 0.953 Std Dev: (+/-0.013) for the following Parameters: {'alpha': 0.0001, 'hidden_layer_sizes': (10, 5), 'learning_rate': 'adaptive', 'max_iter': 2000, 'solver': 'sgd'}\n",
      "Mean: 0.946 Std Dev: (+/-0.018) for the following Parameters: {'alpha': 0.0001, 'hidden_layer_sizes': (5, 5), 'learning_rate': 'constant', 'max_iter': 1000, 'solver': 'adam'}\n",
      "Mean: 0.957 Std Dev: (+/-0.018) for the following Parameters: {'alpha': 0.0001, 'hidden_layer_sizes': (5, 5), 'learning_rate': 'constant', 'max_iter': 1000, 'solver': 'lbfgs'}\n",
      "Mean: 0.952 Std Dev: (+/-0.009) for the following Parameters: {'alpha': 0.0001, 'hidden_layer_sizes': (5, 5), 'learning_rate': 'constant', 'max_iter': 1000, 'solver': 'sgd'}\n",
      "Mean: 0.955 Std Dev: (+/-0.027) for the following Parameters: {'alpha': 0.0001, 'hidden_layer_sizes': (5, 5), 'learning_rate': 'constant', 'max_iter': 1200, 'solver': 'adam'}\n",
      "Mean: 0.961 Std Dev: (+/-0.027) for the following Parameters: {'alpha': 0.0001, 'hidden_layer_sizes': (5, 5), 'learning_rate': 'constant', 'max_iter': 1200, 'solver': 'lbfgs'}\n",
      "Mean: 0.952 Std Dev: (+/-0.023) for the following Parameters: {'alpha': 0.0001, 'hidden_layer_sizes': (5, 5), 'learning_rate': 'constant', 'max_iter': 1200, 'solver': 'sgd'}\n",
      "Mean: 0.952 Std Dev: (+/-0.018) for the following Parameters: {'alpha': 0.0001, 'hidden_layer_sizes': (5, 5), 'learning_rate': 'constant', 'max_iter': 1500, 'solver': 'adam'}\n",
      "Mean: 0.957 Std Dev: (+/-0.023) for the following Parameters: {'alpha': 0.0001, 'hidden_layer_sizes': (5, 5), 'learning_rate': 'constant', 'max_iter': 1500, 'solver': 'lbfgs'}\n",
      "Mean: 0.952 Std Dev: (+/-0.009) for the following Parameters: {'alpha': 0.0001, 'hidden_layer_sizes': (5, 5), 'learning_rate': 'constant', 'max_iter': 1500, 'solver': 'sgd'}\n",
      "Mean: 0.955 Std Dev: (+/-0.022) for the following Parameters: {'alpha': 0.0001, 'hidden_layer_sizes': (5, 5), 'learning_rate': 'constant', 'max_iter': 2000, 'solver': 'adam'}\n",
      "Mean: 0.952 Std Dev: (+/-0.023) for the following Parameters: {'alpha': 0.0001, 'hidden_layer_sizes': (5, 5), 'learning_rate': 'constant', 'max_iter': 2000, 'solver': 'lbfgs'}\n",
      "Mean: 0.948 Std Dev: (+/-0.022) for the following Parameters: {'alpha': 0.0001, 'hidden_layer_sizes': (5, 5), 'learning_rate': 'constant', 'max_iter': 2000, 'solver': 'sgd'}\n",
      "Mean: 0.939 Std Dev: (+/-0.027) for the following Parameters: {'alpha': 0.0001, 'hidden_layer_sizes': (5, 5), 'learning_rate': 'adaptive', 'max_iter': 1000, 'solver': 'adam'}\n",
      "Mean: 0.954 Std Dev: (+/-0.035) for the following Parameters: {'alpha': 0.0001, 'hidden_layer_sizes': (5, 5), 'learning_rate': 'adaptive', 'max_iter': 1000, 'solver': 'lbfgs'}\n",
      "Mean: 0.953 Std Dev: (+/-0.005) for the following Parameters: {'alpha': 0.0001, 'hidden_layer_sizes': (5, 5), 'learning_rate': 'adaptive', 'max_iter': 1000, 'solver': 'sgd'}\n",
      "Mean: 0.955 Std Dev: (+/-0.020) for the following Parameters: {'alpha': 0.0001, 'hidden_layer_sizes': (5, 5), 'learning_rate': 'adaptive', 'max_iter': 1200, 'solver': 'adam'}\n",
      "Mean: 0.941 Std Dev: (+/-0.009) for the following Parameters: {'alpha': 0.0001, 'hidden_layer_sizes': (5, 5), 'learning_rate': 'adaptive', 'max_iter': 1200, 'solver': 'lbfgs'}\n",
      "Mean: 0.950 Std Dev: (+/-0.013) for the following Parameters: {'alpha': 0.0001, 'hidden_layer_sizes': (5, 5), 'learning_rate': 'adaptive', 'max_iter': 1200, 'solver': 'sgd'}\n",
      "Mean: 0.946 Std Dev: (+/-0.009) for the following Parameters: {'alpha': 0.0001, 'hidden_layer_sizes': (5, 5), 'learning_rate': 'adaptive', 'max_iter': 1500, 'solver': 'adam'}\n",
      "Mean: 0.955 Std Dev: (+/-0.018) for the following Parameters: {'alpha': 0.0001, 'hidden_layer_sizes': (5, 5), 'learning_rate': 'adaptive', 'max_iter': 1500, 'solver': 'lbfgs'}\n",
      "Mean: 0.941 Std Dev: (+/-0.031) for the following Parameters: {'alpha': 0.0001, 'hidden_layer_sizes': (5, 5), 'learning_rate': 'adaptive', 'max_iter': 1500, 'solver': 'sgd'}\n",
      "Mean: 0.953 Std Dev: (+/-0.005) for the following Parameters: {'alpha': 0.0001, 'hidden_layer_sizes': (5, 5), 'learning_rate': 'adaptive', 'max_iter': 2000, 'solver': 'adam'}\n",
      "Mean: 0.950 Std Dev: (+/-0.010) for the following Parameters: {'alpha': 0.0001, 'hidden_layer_sizes': (5, 5), 'learning_rate': 'adaptive', 'max_iter': 2000, 'solver': 'lbfgs'}\n",
      "Mean: 0.950 Std Dev: (+/-0.005) for the following Parameters: {'alpha': 0.0001, 'hidden_layer_sizes': (5, 5), 'learning_rate': 'adaptive', 'max_iter': 2000, 'solver': 'sgd'}\n",
      "Mean: 0.945 Std Dev: (+/-0.030) for the following Parameters: {'alpha': 0.0001, 'hidden_layer_sizes': (100, 10, 50), 'learning_rate': 'constant', 'max_iter': 1000, 'solver': 'adam'}\n",
      "Mean: 0.954 Std Dev: (+/-0.013) for the following Parameters: {'alpha': 0.0001, 'hidden_layer_sizes': (100, 10, 50), 'learning_rate': 'constant', 'max_iter': 1000, 'solver': 'lbfgs'}\n",
      "Mean: 0.950 Std Dev: (+/-0.027) for the following Parameters: {'alpha': 0.0001, 'hidden_layer_sizes': (100, 10, 50), 'learning_rate': 'constant', 'max_iter': 1000, 'solver': 'sgd'}\n",
      "Mean: 0.950 Std Dev: (+/-0.018) for the following Parameters: {'alpha': 0.0001, 'hidden_layer_sizes': (100, 10, 50), 'learning_rate': 'constant', 'max_iter': 1200, 'solver': 'adam'}\n",
      "Mean: 0.946 Std Dev: (+/-0.032) for the following Parameters: {'alpha': 0.0001, 'hidden_layer_sizes': (100, 10, 50), 'learning_rate': 'constant', 'max_iter': 1200, 'solver': 'lbfgs'}\n",
      "Mean: 0.959 Std Dev: (+/-0.005) for the following Parameters: {'alpha': 0.0001, 'hidden_layer_sizes': (100, 10, 50), 'learning_rate': 'constant', 'max_iter': 1200, 'solver': 'sgd'}\n",
      "Mean: 0.943 Std Dev: (+/-0.018) for the following Parameters: {'alpha': 0.0001, 'hidden_layer_sizes': (100, 10, 50), 'learning_rate': 'constant', 'max_iter': 1500, 'solver': 'adam'}\n",
      "Mean: 0.959 Std Dev: (+/-0.014) for the following Parameters: {'alpha': 0.0001, 'hidden_layer_sizes': (100, 10, 50), 'learning_rate': 'constant', 'max_iter': 1500, 'solver': 'lbfgs'}\n",
      "Mean: 0.948 Std Dev: (+/-0.036) for the following Parameters: {'alpha': 0.0001, 'hidden_layer_sizes': (100, 10, 50), 'learning_rate': 'constant', 'max_iter': 1500, 'solver': 'sgd'}\n",
      "Mean: 0.950 Std Dev: (+/-0.013) for the following Parameters: {'alpha': 0.0001, 'hidden_layer_sizes': (100, 10, 50), 'learning_rate': 'constant', 'max_iter': 2000, 'solver': 'adam'}\n",
      "Mean: 0.936 Std Dev: (+/-0.023) for the following Parameters: {'alpha': 0.0001, 'hidden_layer_sizes': (100, 10, 50), 'learning_rate': 'constant', 'max_iter': 2000, 'solver': 'lbfgs'}\n",
      "Mean: 0.948 Std Dev: (+/-0.020) for the following Parameters: {'alpha': 0.0001, 'hidden_layer_sizes': (100, 10, 50), 'learning_rate': 'constant', 'max_iter': 2000, 'solver': 'sgd'}\n",
      "Mean: 0.950 Std Dev: (+/-0.022) for the following Parameters: {'alpha': 0.0001, 'hidden_layer_sizes': (100, 10, 50), 'learning_rate': 'adaptive', 'max_iter': 1000, 'solver': 'adam'}\n",
      "Mean: 0.955 Std Dev: (+/-0.013) for the following Parameters: {'alpha': 0.0001, 'hidden_layer_sizes': (100, 10, 50), 'learning_rate': 'adaptive', 'max_iter': 1000, 'solver': 'lbfgs'}\n",
      "Mean: 0.950 Std Dev: (+/-0.028) for the following Parameters: {'alpha': 0.0001, 'hidden_layer_sizes': (100, 10, 50), 'learning_rate': 'adaptive', 'max_iter': 1000, 'solver': 'sgd'}\n",
      "Mean: 0.950 Std Dev: (+/-0.013) for the following Parameters: {'alpha': 0.0001, 'hidden_layer_sizes': (100, 10, 50), 'learning_rate': 'adaptive', 'max_iter': 1200, 'solver': 'adam'}\n",
      "Mean: 0.961 Std Dev: (+/-0.013) for the following Parameters: {'alpha': 0.0001, 'hidden_layer_sizes': (100, 10, 50), 'learning_rate': 'adaptive', 'max_iter': 1200, 'solver': 'lbfgs'}\n",
      "Mean: 0.954 Std Dev: (+/-0.013) for the following Parameters: {'alpha': 0.0001, 'hidden_layer_sizes': (100, 10, 50), 'learning_rate': 'adaptive', 'max_iter': 1200, 'solver': 'sgd'}\n",
      "Mean: 0.948 Std Dev: (+/-0.005) for the following Parameters: {'alpha': 0.0001, 'hidden_layer_sizes': (100, 10, 50), 'learning_rate': 'adaptive', 'max_iter': 1500, 'solver': 'adam'}\n",
      "Mean: 0.953 Std Dev: (+/-0.018) for the following Parameters: {'alpha': 0.0001, 'hidden_layer_sizes': (100, 10, 50), 'learning_rate': 'adaptive', 'max_iter': 1500, 'solver': 'lbfgs'}\n",
      "Mean: 0.950 Std Dev: (+/-0.022) for the following Parameters: {'alpha': 0.0001, 'hidden_layer_sizes': (100, 10, 50), 'learning_rate': 'adaptive', 'max_iter': 1500, 'solver': 'sgd'}\n",
      "Mean: 0.954 Std Dev: (+/-0.018) for the following Parameters: {'alpha': 0.0001, 'hidden_layer_sizes': (100, 10, 50), 'learning_rate': 'adaptive', 'max_iter': 2000, 'solver': 'adam'}\n",
      "Mean: 0.948 Std Dev: (+/-0.031) for the following Parameters: {'alpha': 0.0001, 'hidden_layer_sizes': (100, 10, 50), 'learning_rate': 'adaptive', 'max_iter': 2000, 'solver': 'lbfgs'}\n",
      "Mean: 0.952 Std Dev: (+/-0.018) for the following Parameters: {'alpha': 0.0001, 'hidden_layer_sizes': (100, 10, 50), 'learning_rate': 'adaptive', 'max_iter': 2000, 'solver': 'sgd'}\n",
      "Mean: 0.941 Std Dev: (+/-0.023) for the following Parameters: {'alpha': 0.005, 'hidden_layer_sizes': (10, 10, 10), 'learning_rate': 'constant', 'max_iter': 1000, 'solver': 'adam'}\n",
      "Mean: 0.946 Std Dev: (+/-0.009) for the following Parameters: {'alpha': 0.005, 'hidden_layer_sizes': (10, 10, 10), 'learning_rate': 'constant', 'max_iter': 1000, 'solver': 'lbfgs'}\n",
      "Mean: 0.948 Std Dev: (+/-0.010) for the following Parameters: {'alpha': 0.005, 'hidden_layer_sizes': (10, 10, 10), 'learning_rate': 'constant', 'max_iter': 1000, 'solver': 'sgd'}\n",
      "Mean: 0.950 Std Dev: (+/-0.010) for the following Parameters: {'alpha': 0.005, 'hidden_layer_sizes': (10, 10, 10), 'learning_rate': 'constant', 'max_iter': 1200, 'solver': 'adam'}\n",
      "Mean: 0.946 Std Dev: (+/-0.035) for the following Parameters: {'alpha': 0.005, 'hidden_layer_sizes': (10, 10, 10), 'learning_rate': 'constant', 'max_iter': 1200, 'solver': 'lbfgs'}\n",
      "Mean: 0.953 Std Dev: (+/-0.013) for the following Parameters: {'alpha': 0.005, 'hidden_layer_sizes': (10, 10, 10), 'learning_rate': 'constant', 'max_iter': 1200, 'solver': 'sgd'}\n",
      "Mean: 0.946 Std Dev: (+/-0.009) for the following Parameters: {'alpha': 0.005, 'hidden_layer_sizes': (10, 10, 10), 'learning_rate': 'constant', 'max_iter': 1500, 'solver': 'adam'}\n",
      "Mean: 0.948 Std Dev: (+/-0.028) for the following Parameters: {'alpha': 0.005, 'hidden_layer_sizes': (10, 10, 10), 'learning_rate': 'constant', 'max_iter': 1500, 'solver': 'lbfgs'}\n",
      "Mean: 0.952 Std Dev: (+/-0.015) for the following Parameters: {'alpha': 0.005, 'hidden_layer_sizes': (10, 10, 10), 'learning_rate': 'constant', 'max_iter': 1500, 'solver': 'sgd'}\n",
      "Mean: 0.943 Std Dev: (+/-0.010) for the following Parameters: {'alpha': 0.005, 'hidden_layer_sizes': (10, 10, 10), 'learning_rate': 'constant', 'max_iter': 2000, 'solver': 'adam'}\n",
      "Mean: 0.941 Std Dev: (+/-0.023) for the following Parameters: {'alpha': 0.005, 'hidden_layer_sizes': (10, 10, 10), 'learning_rate': 'constant', 'max_iter': 2000, 'solver': 'lbfgs'}\n",
      "Mean: 0.952 Std Dev: (+/-0.035) for the following Parameters: {'alpha': 0.005, 'hidden_layer_sizes': (10, 10, 10), 'learning_rate': 'constant', 'max_iter': 2000, 'solver': 'sgd'}\n",
      "Mean: 0.948 Std Dev: (+/-0.022) for the following Parameters: {'alpha': 0.005, 'hidden_layer_sizes': (10, 10, 10), 'learning_rate': 'adaptive', 'max_iter': 1000, 'solver': 'adam'}\n",
      "Mean: 0.941 Std Dev: (+/-0.027) for the following Parameters: {'alpha': 0.005, 'hidden_layer_sizes': (10, 10, 10), 'learning_rate': 'adaptive', 'max_iter': 1000, 'solver': 'lbfgs'}\n",
      "Mean: 0.955 Std Dev: (+/-0.031) for the following Parameters: {'alpha': 0.005, 'hidden_layer_sizes': (10, 10, 10), 'learning_rate': 'adaptive', 'max_iter': 1000, 'solver': 'sgd'}\n",
      "Mean: 0.939 Std Dev: (+/-0.018) for the following Parameters: {'alpha': 0.005, 'hidden_layer_sizes': (10, 10, 10), 'learning_rate': 'adaptive', 'max_iter': 1200, 'solver': 'adam'}\n",
      "Mean: 0.930 Std Dev: (+/-0.026) for the following Parameters: {'alpha': 0.005, 'hidden_layer_sizes': (10, 10, 10), 'learning_rate': 'adaptive', 'max_iter': 1200, 'solver': 'lbfgs'}\n",
      "Mean: 0.952 Std Dev: (+/-0.023) for the following Parameters: {'alpha': 0.005, 'hidden_layer_sizes': (10, 10, 10), 'learning_rate': 'adaptive', 'max_iter': 1200, 'solver': 'sgd'}\n",
      "Mean: 0.948 Std Dev: (+/-0.028) for the following Parameters: {'alpha': 0.005, 'hidden_layer_sizes': (10, 10, 10), 'learning_rate': 'adaptive', 'max_iter': 1500, 'solver': 'adam'}\n",
      "Mean: 0.948 Std Dev: (+/-0.039) for the following Parameters: {'alpha': 0.005, 'hidden_layer_sizes': (10, 10, 10), 'learning_rate': 'adaptive', 'max_iter': 1500, 'solver': 'lbfgs'}\n",
      "Mean: 0.948 Std Dev: (+/-0.022) for the following Parameters: {'alpha': 0.005, 'hidden_layer_sizes': (10, 10, 10), 'learning_rate': 'adaptive', 'max_iter': 1500, 'solver': 'sgd'}\n",
      "Mean: 0.961 Std Dev: (+/-0.005) for the following Parameters: {'alpha': 0.005, 'hidden_layer_sizes': (10, 10, 10), 'learning_rate': 'adaptive', 'max_iter': 2000, 'solver': 'adam'}\n",
      "Mean: 0.955 Std Dev: (+/-0.027) for the following Parameters: {'alpha': 0.005, 'hidden_layer_sizes': (10, 10, 10), 'learning_rate': 'adaptive', 'max_iter': 2000, 'solver': 'lbfgs'}\n",
      "Mean: 0.953 Std Dev: (+/-0.013) for the following Parameters: {'alpha': 0.005, 'hidden_layer_sizes': (10, 10, 10), 'learning_rate': 'adaptive', 'max_iter': 2000, 'solver': 'sgd'}\n",
      "Mean: 0.943 Std Dev: (+/-0.025) for the following Parameters: {'alpha': 0.005, 'hidden_layer_sizes': (10, 5), 'learning_rate': 'constant', 'max_iter': 1000, 'solver': 'adam'}\n",
      "Mean: 0.954 Std Dev: (+/-0.010) for the following Parameters: {'alpha': 0.005, 'hidden_layer_sizes': (10, 5), 'learning_rate': 'constant', 'max_iter': 1000, 'solver': 'lbfgs'}\n",
      "Mean: 0.955 Std Dev: (+/-0.027) for the following Parameters: {'alpha': 0.005, 'hidden_layer_sizes': (10, 5), 'learning_rate': 'constant', 'max_iter': 1000, 'solver': 'sgd'}\n",
      "Mean: 0.966 Std Dev: (+/-0.005) for the following Parameters: {'alpha': 0.005, 'hidden_layer_sizes': (10, 5), 'learning_rate': 'constant', 'max_iter': 1200, 'solver': 'adam'}\n",
      "Mean: 0.934 Std Dev: (+/-0.045) for the following Parameters: {'alpha': 0.005, 'hidden_layer_sizes': (10, 5), 'learning_rate': 'constant', 'max_iter': 1200, 'solver': 'lbfgs'}\n",
      "Mean: 0.955 Std Dev: (+/-0.013) for the following Parameters: {'alpha': 0.005, 'hidden_layer_sizes': (10, 5), 'learning_rate': 'constant', 'max_iter': 1200, 'solver': 'sgd'}\n",
      "Mean: 0.952 Std Dev: (+/-0.017) for the following Parameters: {'alpha': 0.005, 'hidden_layer_sizes': (10, 5), 'learning_rate': 'constant', 'max_iter': 1500, 'solver': 'adam'}\n",
      "Mean: 0.943 Std Dev: (+/-0.018) for the following Parameters: {'alpha': 0.005, 'hidden_layer_sizes': (10, 5), 'learning_rate': 'constant', 'max_iter': 1500, 'solver': 'lbfgs'}\n",
      "Mean: 0.948 Std Dev: (+/-0.018) for the following Parameters: {'alpha': 0.005, 'hidden_layer_sizes': (10, 5), 'learning_rate': 'constant', 'max_iter': 1500, 'solver': 'sgd'}\n",
      "Mean: 0.953 Std Dev: (+/-0.013) for the following Parameters: {'alpha': 0.005, 'hidden_layer_sizes': (10, 5), 'learning_rate': 'constant', 'max_iter': 2000, 'solver': 'adam'}\n",
      "Mean: 0.943 Std Dev: (+/-0.027) for the following Parameters: {'alpha': 0.005, 'hidden_layer_sizes': (10, 5), 'learning_rate': 'constant', 'max_iter': 2000, 'solver': 'lbfgs'}\n",
      "Mean: 0.950 Std Dev: (+/-0.010) for the following Parameters: {'alpha': 0.005, 'hidden_layer_sizes': (10, 5), 'learning_rate': 'constant', 'max_iter': 2000, 'solver': 'sgd'}\n",
      "Mean: 0.955 Std Dev: (+/-0.020) for the following Parameters: {'alpha': 0.005, 'hidden_layer_sizes': (10, 5), 'learning_rate': 'adaptive', 'max_iter': 1000, 'solver': 'adam'}\n",
      "Mean: 0.934 Std Dev: (+/-0.043) for the following Parameters: {'alpha': 0.005, 'hidden_layer_sizes': (10, 5), 'learning_rate': 'adaptive', 'max_iter': 1000, 'solver': 'lbfgs'}\n",
      "Mean: 0.952 Std Dev: (+/-0.026) for the following Parameters: {'alpha': 0.005, 'hidden_layer_sizes': (10, 5), 'learning_rate': 'adaptive', 'max_iter': 1000, 'solver': 'sgd'}\n",
      "Mean: 0.946 Std Dev: (+/-0.000) for the following Parameters: {'alpha': 0.005, 'hidden_layer_sizes': (10, 5), 'learning_rate': 'adaptive', 'max_iter': 1200, 'solver': 'adam'}\n",
      "Mean: 0.850 Std Dev: (+/-0.272) for the following Parameters: {'alpha': 0.005, 'hidden_layer_sizes': (10, 5), 'learning_rate': 'adaptive', 'max_iter': 1200, 'solver': 'lbfgs'}\n",
      "Mean: 0.954 Std Dev: (+/-0.025) for the following Parameters: {'alpha': 0.005, 'hidden_layer_sizes': (10, 5), 'learning_rate': 'adaptive', 'max_iter': 1200, 'solver': 'sgd'}\n",
      "Mean: 0.939 Std Dev: (+/-0.013) for the following Parameters: {'alpha': 0.005, 'hidden_layer_sizes': (10, 5), 'learning_rate': 'adaptive', 'max_iter': 1500, 'solver': 'adam'}\n",
      "Mean: 0.920 Std Dev: (+/-0.049) for the following Parameters: {'alpha': 0.005, 'hidden_layer_sizes': (10, 5), 'learning_rate': 'adaptive', 'max_iter': 1500, 'solver': 'lbfgs'}\n",
      "Mean: 0.946 Std Dev: (+/-0.015) for the following Parameters: {'alpha': 0.005, 'hidden_layer_sizes': (10, 5), 'learning_rate': 'adaptive', 'max_iter': 1500, 'solver': 'sgd'}\n",
      "Mean: 0.948 Std Dev: (+/-0.033) for the following Parameters: {'alpha': 0.005, 'hidden_layer_sizes': (10, 5), 'learning_rate': 'adaptive', 'max_iter': 2000, 'solver': 'adam'}\n",
      "Mean: 0.943 Std Dev: (+/-0.013) for the following Parameters: {'alpha': 0.005, 'hidden_layer_sizes': (10, 5), 'learning_rate': 'adaptive', 'max_iter': 2000, 'solver': 'lbfgs'}\n",
      "Mean: 0.946 Std Dev: (+/-0.038) for the following Parameters: {'alpha': 0.005, 'hidden_layer_sizes': (10, 5), 'learning_rate': 'adaptive', 'max_iter': 2000, 'solver': 'sgd'}\n",
      "Mean: 0.953 Std Dev: (+/-0.022) for the following Parameters: {'alpha': 0.005, 'hidden_layer_sizes': (5, 5), 'learning_rate': 'constant', 'max_iter': 1000, 'solver': 'adam'}\n",
      "Mean: 0.955 Std Dev: (+/-0.010) for the following Parameters: {'alpha': 0.005, 'hidden_layer_sizes': (5, 5), 'learning_rate': 'constant', 'max_iter': 1000, 'solver': 'lbfgs'}\n",
      "Mean: 0.955 Std Dev: (+/-0.018) for the following Parameters: {'alpha': 0.005, 'hidden_layer_sizes': (5, 5), 'learning_rate': 'constant', 'max_iter': 1000, 'solver': 'sgd'}\n",
      "Mean: 0.945 Std Dev: (+/-0.030) for the following Parameters: {'alpha': 0.005, 'hidden_layer_sizes': (5, 5), 'learning_rate': 'constant', 'max_iter': 1200, 'solver': 'adam'}\n",
      "Mean: 0.957 Std Dev: (+/-0.015) for the following Parameters: {'alpha': 0.005, 'hidden_layer_sizes': (5, 5), 'learning_rate': 'constant', 'max_iter': 1200, 'solver': 'lbfgs'}\n",
      "Mean: 0.941 Std Dev: (+/-0.023) for the following Parameters: {'alpha': 0.005, 'hidden_layer_sizes': (5, 5), 'learning_rate': 'constant', 'max_iter': 1200, 'solver': 'sgd'}\n",
      "Mean: 0.955 Std Dev: (+/-0.018) for the following Parameters: {'alpha': 0.005, 'hidden_layer_sizes': (5, 5), 'learning_rate': 'constant', 'max_iter': 1500, 'solver': 'adam'}\n",
      "Mean: 0.948 Std Dev: (+/-0.005) for the following Parameters: {'alpha': 0.005, 'hidden_layer_sizes': (5, 5), 'learning_rate': 'constant', 'max_iter': 1500, 'solver': 'lbfgs'}\n",
      "Mean: 0.950 Std Dev: (+/-0.033) for the following Parameters: {'alpha': 0.005, 'hidden_layer_sizes': (5, 5), 'learning_rate': 'constant', 'max_iter': 1500, 'solver': 'sgd'}\n",
      "Mean: 0.955 Std Dev: (+/-0.005) for the following Parameters: {'alpha': 0.005, 'hidden_layer_sizes': (5, 5), 'learning_rate': 'constant', 'max_iter': 2000, 'solver': 'adam'}\n",
      "Mean: 0.955 Std Dev: (+/-0.022) for the following Parameters: {'alpha': 0.005, 'hidden_layer_sizes': (5, 5), 'learning_rate': 'constant', 'max_iter': 2000, 'solver': 'lbfgs'}\n",
      "Mean: 0.954 Std Dev: (+/-0.013) for the following Parameters: {'alpha': 0.005, 'hidden_layer_sizes': (5, 5), 'learning_rate': 'constant', 'max_iter': 2000, 'solver': 'sgd'}\n",
      "Mean: 0.943 Std Dev: (+/-0.020) for the following Parameters: {'alpha': 0.005, 'hidden_layer_sizes': (5, 5), 'learning_rate': 'adaptive', 'max_iter': 1000, 'solver': 'adam'}\n",
      "Mean: 0.961 Std Dev: (+/-0.005) for the following Parameters: {'alpha': 0.005, 'hidden_layer_sizes': (5, 5), 'learning_rate': 'adaptive', 'max_iter': 1000, 'solver': 'lbfgs'}\n",
      "Mean: 0.857 Std Dev: (+/-0.277) for the following Parameters: {'alpha': 0.005, 'hidden_layer_sizes': (5, 5), 'learning_rate': 'adaptive', 'max_iter': 1000, 'solver': 'sgd'}\n",
      "Mean: 0.862 Std Dev: (+/-0.284) for the following Parameters: {'alpha': 0.005, 'hidden_layer_sizes': (5, 5), 'learning_rate': 'adaptive', 'max_iter': 1200, 'solver': 'adam'}\n",
      "Mean: 0.966 Std Dev: (+/-0.025) for the following Parameters: {'alpha': 0.005, 'hidden_layer_sizes': (5, 5), 'learning_rate': 'adaptive', 'max_iter': 1200, 'solver': 'lbfgs'}\n",
      "Mean: 0.946 Std Dev: (+/-0.031) for the following Parameters: {'alpha': 0.005, 'hidden_layer_sizes': (5, 5), 'learning_rate': 'adaptive', 'max_iter': 1200, 'solver': 'sgd'}\n",
      "Mean: 0.946 Std Dev: (+/-0.023) for the following Parameters: {'alpha': 0.005, 'hidden_layer_sizes': (5, 5), 'learning_rate': 'adaptive', 'max_iter': 1500, 'solver': 'adam'}\n",
      "Mean: 0.946 Std Dev: (+/-0.026) for the following Parameters: {'alpha': 0.005, 'hidden_layer_sizes': (5, 5), 'learning_rate': 'adaptive', 'max_iter': 1500, 'solver': 'lbfgs'}\n",
      "Mean: 0.943 Std Dev: (+/-0.039) for the following Parameters: {'alpha': 0.005, 'hidden_layer_sizes': (5, 5), 'learning_rate': 'adaptive', 'max_iter': 1500, 'solver': 'sgd'}\n",
      "Mean: 0.957 Std Dev: (+/-0.018) for the following Parameters: {'alpha': 0.005, 'hidden_layer_sizes': (5, 5), 'learning_rate': 'adaptive', 'max_iter': 2000, 'solver': 'adam'}\n",
      "Mean: 0.859 Std Dev: (+/-0.285) for the following Parameters: {'alpha': 0.005, 'hidden_layer_sizes': (5, 5), 'learning_rate': 'adaptive', 'max_iter': 2000, 'solver': 'lbfgs'}\n",
      "Mean: 0.946 Std Dev: (+/-0.030) for the following Parameters: {'alpha': 0.005, 'hidden_layer_sizes': (5, 5), 'learning_rate': 'adaptive', 'max_iter': 2000, 'solver': 'sgd'}\n",
      "Mean: 0.955 Std Dev: (+/-0.013) for the following Parameters: {'alpha': 0.005, 'hidden_layer_sizes': (100, 10, 50), 'learning_rate': 'constant', 'max_iter': 1000, 'solver': 'adam'}\n",
      "Mean: 0.957 Std Dev: (+/-0.030) for the following Parameters: {'alpha': 0.005, 'hidden_layer_sizes': (100, 10, 50), 'learning_rate': 'constant', 'max_iter': 1000, 'solver': 'lbfgs'}\n",
      "Mean: 0.950 Std Dev: (+/-0.018) for the following Parameters: {'alpha': 0.005, 'hidden_layer_sizes': (100, 10, 50), 'learning_rate': 'constant', 'max_iter': 1000, 'solver': 'sgd'}\n",
      "Mean: 0.957 Std Dev: (+/-0.030) for the following Parameters: {'alpha': 0.005, 'hidden_layer_sizes': (100, 10, 50), 'learning_rate': 'constant', 'max_iter': 1200, 'solver': 'adam'}\n",
      "Mean: 0.939 Std Dev: (+/-0.022) for the following Parameters: {'alpha': 0.005, 'hidden_layer_sizes': (100, 10, 50), 'learning_rate': 'constant', 'max_iter': 1200, 'solver': 'lbfgs'}\n",
      "Mean: 0.953 Std Dev: (+/-0.013) for the following Parameters: {'alpha': 0.005, 'hidden_layer_sizes': (100, 10, 50), 'learning_rate': 'constant', 'max_iter': 1200, 'solver': 'sgd'}\n",
      "Mean: 0.936 Std Dev: (+/-0.000) for the following Parameters: {'alpha': 0.005, 'hidden_layer_sizes': (100, 10, 50), 'learning_rate': 'constant', 'max_iter': 1500, 'solver': 'adam'}\n",
      "Mean: 0.939 Std Dev: (+/-0.035) for the following Parameters: {'alpha': 0.005, 'hidden_layer_sizes': (100, 10, 50), 'learning_rate': 'constant', 'max_iter': 1500, 'solver': 'lbfgs'}\n",
      "Mean: 0.954 Std Dev: (+/-0.013) for the following Parameters: {'alpha': 0.005, 'hidden_layer_sizes': (100, 10, 50), 'learning_rate': 'constant', 'max_iter': 1500, 'solver': 'sgd'}\n",
      "Mean: 0.948 Std Dev: (+/-0.035) for the following Parameters: {'alpha': 0.005, 'hidden_layer_sizes': (100, 10, 50), 'learning_rate': 'constant', 'max_iter': 2000, 'solver': 'adam'}\n",
      "Mean: 0.939 Std Dev: (+/-0.005) for the following Parameters: {'alpha': 0.005, 'hidden_layer_sizes': (100, 10, 50), 'learning_rate': 'constant', 'max_iter': 2000, 'solver': 'lbfgs'}\n",
      "Mean: 0.953 Std Dev: (+/-0.025) for the following Parameters: {'alpha': 0.005, 'hidden_layer_sizes': (100, 10, 50), 'learning_rate': 'constant', 'max_iter': 2000, 'solver': 'sgd'}\n",
      "Mean: 0.954 Std Dev: (+/-0.010) for the following Parameters: {'alpha': 0.005, 'hidden_layer_sizes': (100, 10, 50), 'learning_rate': 'adaptive', 'max_iter': 1000, 'solver': 'adam'}\n",
      "Mean: 0.955 Std Dev: (+/-0.031) for the following Parameters: {'alpha': 0.005, 'hidden_layer_sizes': (100, 10, 50), 'learning_rate': 'adaptive', 'max_iter': 1000, 'solver': 'lbfgs'}\n",
      "Mean: 0.957 Std Dev: (+/-0.009) for the following Parameters: {'alpha': 0.005, 'hidden_layer_sizes': (100, 10, 50), 'learning_rate': 'adaptive', 'max_iter': 1000, 'solver': 'sgd'}\n",
      "Mean: 0.954 Std Dev: (+/-0.018) for the following Parameters: {'alpha': 0.005, 'hidden_layer_sizes': (100, 10, 50), 'learning_rate': 'adaptive', 'max_iter': 1200, 'solver': 'adam'}\n",
      "Mean: 0.952 Std Dev: (+/-0.023) for the following Parameters: {'alpha': 0.005, 'hidden_layer_sizes': (100, 10, 50), 'learning_rate': 'adaptive', 'max_iter': 1200, 'solver': 'lbfgs'}\n",
      "Mean: 0.950 Std Dev: (+/-0.018) for the following Parameters: {'alpha': 0.005, 'hidden_layer_sizes': (100, 10, 50), 'learning_rate': 'adaptive', 'max_iter': 1200, 'solver': 'sgd'}\n",
      "Mean: 0.950 Std Dev: (+/-0.005) for the following Parameters: {'alpha': 0.005, 'hidden_layer_sizes': (100, 10, 50), 'learning_rate': 'adaptive', 'max_iter': 1500, 'solver': 'adam'}\n",
      "Mean: 0.945 Std Dev: (+/-0.013) for the following Parameters: {'alpha': 0.005, 'hidden_layer_sizes': (100, 10, 50), 'learning_rate': 'adaptive', 'max_iter': 1500, 'solver': 'lbfgs'}\n",
      "Mean: 0.950 Std Dev: (+/-0.018) for the following Parameters: {'alpha': 0.005, 'hidden_layer_sizes': (100, 10, 50), 'learning_rate': 'adaptive', 'max_iter': 1500, 'solver': 'sgd'}\n",
      "Mean: 0.950 Std Dev: (+/-0.010) for the following Parameters: {'alpha': 0.005, 'hidden_layer_sizes': (100, 10, 50), 'learning_rate': 'adaptive', 'max_iter': 2000, 'solver': 'adam'}\n",
      "Mean: 0.939 Std Dev: (+/-0.018) for the following Parameters: {'alpha': 0.005, 'hidden_layer_sizes': (100, 10, 50), 'learning_rate': 'adaptive', 'max_iter': 2000, 'solver': 'lbfgs'}\n",
      "Mean: 0.957 Std Dev: (+/-0.009) for the following Parameters: {'alpha': 0.005, 'hidden_layer_sizes': (100, 10, 50), 'learning_rate': 'adaptive', 'max_iter': 2000, 'solver': 'sgd'}\n"
     ]
    }
   ],
   "source": [
    "print(\"The best parameters are: {'alpha': 0.005, 'hidden_layer_sizes': (10, 5), 'learning_rate': 'constant', 'max_iter': 1200, 'solver': 'adam'}\")\n",
    "print(\"Grid scores on development set:\")\n",
    "print()\n",
    "means = gs.cv_results_['mean_test_score']\n",
    "stds = gs.cv_results_['std_test_score']\n",
    "for mean, std, params in zip(means, stds, gs.cv_results_['params']):\n",
    "    print(\"Mean: %0.3f Std Dev: (+/-%0.03f) for the following Parameters: %r\"\n",
    "        % (mean, std * 2, params))"
   ]
  },
  {
   "cell_type": "code",
   "execution_count": 21,
   "metadata": {},
   "outputs": [
    {
     "name": "stdout",
     "output_type": "stream",
     "text": [
      "Confusion Matrix:\n",
      "[[87  2]\n",
      " [ 3 48]]\n",
      "Classification Report:\n",
      "              precision    recall  f1-score   support\n",
      "\n",
      "           2       0.97      0.98      0.97        89\n",
      "           4       0.96      0.94      0.95        51\n",
      "\n",
      "    accuracy                           0.96       140\n",
      "   macro avg       0.96      0.96      0.96       140\n",
      "weighted avg       0.96      0.96      0.96       140\n",
      "\n"
     ]
    }
   ],
   "source": [
    "prediction = gs.predict(X_test)\n",
    "print(\"Confusion Matrix:\")\n",
    "print(confusion_matrix(y_test,prediction))\n",
    "print(\"Classification Report:\")\n",
    "print(classification_report(y_test,prediction))"
   ]
  },
  {
   "cell_type": "code",
   "execution_count": 39,
   "metadata": {},
   "outputs": [
    {
     "name": "stdout",
     "output_type": "stream",
     "text": [
      "Mean: 0.862 Std Dev: (+/-0.284) for the following Parameters: {'alpha': 0.0001, 'hidden_layer_sizes': (10, 5), 'learning_rate': 'adaptive', 'max_iter': 2000, 'solver': 'lbfgs'}\n",
      "Mean: 0.850 Std Dev: (+/-0.272) for the following Parameters: {'alpha': 0.005, 'hidden_layer_sizes': (10, 5), 'learning_rate': 'adaptive', 'max_iter': 1200, 'solver': 'lbfgs'}\n",
      "Mean: 0.859 Std Dev: (+/-0.285) for the following Parameters: {'alpha': 0.005, 'hidden_layer_sizes': (5, 5), 'learning_rate': 'adaptive', 'max_iter': 2000, 'solver': 'lbfgs'}\n"
     ]
    }
   ],
   "source": [
    "for mean, std, params in zip(means, stds, gs.cv_results_['params']):\n",
    "    if (params['solver'] == 'lbfgs') and (mean<.9):\n",
    "        print(\"Mean: %0.3f Std Dev: (+/-%0.03f) for the following Parameters: %r\"\n",
    "            % (mean, std * 2, params))"
   ]
  },
  {
   "cell_type": "code",
   "execution_count": 61,
   "metadata": {},
   "outputs": [
    {
     "name": "stderr",
     "output_type": "stream",
     "text": [
      "C:\\Users\\Logan\\anaconda3\\lib\\site-packages\\sklearn\\neural_network\\_multilayer_perceptron.py:582: ConvergenceWarning: Stochastic Optimizer: Maximum iterations (20) reached and the optimization hasn't converged yet.\n",
      "  warnings.warn(\n",
      "C:\\Users\\Logan\\anaconda3\\lib\\site-packages\\sklearn\\neural_network\\_multilayer_perceptron.py:582: ConvergenceWarning: Stochastic Optimizer: Maximum iterations (20) reached and the optimization hasn't converged yet.\n",
      "  warnings.warn(\n",
      "C:\\Users\\Logan\\anaconda3\\lib\\site-packages\\sklearn\\neural_network\\_multilayer_perceptron.py:582: ConvergenceWarning: Stochastic Optimizer: Maximum iterations (20) reached and the optimization hasn't converged yet.\n",
      "  warnings.warn(\n",
      "C:\\Users\\Logan\\anaconda3\\lib\\site-packages\\sklearn\\neural_network\\_multilayer_perceptron.py:582: ConvergenceWarning: Stochastic Optimizer: Maximum iterations (20) reached and the optimization hasn't converged yet.\n",
      "  warnings.warn(\n",
      "C:\\Users\\Logan\\anaconda3\\lib\\site-packages\\sklearn\\neural_network\\_multilayer_perceptron.py:582: ConvergenceWarning: Stochastic Optimizer: Maximum iterations (20) reached and the optimization hasn't converged yet.\n",
      "  warnings.warn(\n",
      "C:\\Users\\Logan\\anaconda3\\lib\\site-packages\\sklearn\\neural_network\\_multilayer_perceptron.py:582: ConvergenceWarning: Stochastic Optimizer: Maximum iterations (20) reached and the optimization hasn't converged yet.\n",
      "  warnings.warn(\n"
     ]
    }
   ],
   "source": [
    "parameters = {\n",
    "'solver': ['adam'],\n",
    "'max_iter': [1000, 20],\n",
    "'hidden_layer_sizes': [(10, 5), (5,5)],\n",
    "'alpha': [.001],\n",
    "'learning_rate': ['constant']\n",
    "}\n",
    "gs = GridSearchCV(estimator=clf, param_grid=parameters, cv=3).fit(X_train, y_train)\n"
   ]
  },
  {
   "cell_type": "code",
   "execution_count": 62,
   "metadata": {},
   "outputs": [
    {
     "name": "stdout",
     "output_type": "stream",
     "text": [
      "Best parameters set found on development set:\n",
      "\n",
      "{'alpha': 0.001, 'hidden_layer_sizes': (5, 5), 'learning_rate': 'constant', 'max_iter': 1000, 'solver': 'adam'}\n",
      "Mean: 0.946 Std Dev: (+/-0.023) for the following Parameters: {'alpha': 0.001, 'hidden_layer_sizes': (10, 5), 'learning_rate': 'constant', 'max_iter': 1000, 'solver': 'adam'}\n",
      "Mean: 0.787 Std Dev: (+/-0.183) for the following Parameters: {'alpha': 0.001, 'hidden_layer_sizes': (10, 5), 'learning_rate': 'constant', 'max_iter': 20, 'solver': 'adam'}\n",
      "Mean: 0.955 Std Dev: (+/-0.018) for the following Parameters: {'alpha': 0.001, 'hidden_layer_sizes': (5, 5), 'learning_rate': 'constant', 'max_iter': 1000, 'solver': 'adam'}\n",
      "Mean: 0.585 Std Dev: (+/-0.434) for the following Parameters: {'alpha': 0.001, 'hidden_layer_sizes': (5, 5), 'learning_rate': 'constant', 'max_iter': 20, 'solver': 'adam'}\n"
     ]
    }
   ],
   "source": [
    "print(\"Best parameters set found on development set:\")\n",
    "print()\n",
    "print(gs.best_params_)\n",
    "means = gs.cv_results_['mean_test_score']\n",
    "stds = gs.cv_results_['std_test_score']\n",
    "for mean, std, params in zip(means, stds, gs.cv_results_['params']):\n",
    "    print(\"Mean: %0.3f Std Dev: (+/-%0.03f) for the following Parameters: %r\"\n",
    "        % (mean, std * 2, params))"
   ]
  },
  {
   "cell_type": "code",
   "execution_count": null,
   "metadata": {},
   "outputs": [],
   "source": [
    "adam best : Mean: 0.966 Std Dev: (+/-0.005) for the following Parameters: {'alpha': 0.005, 'hidden_layer_sizes': (10, 5), 'learning_rate': 'constant', 'max_iter': 1200, 'solver': 'adam'}\n",
    "adam worst : Mean: 0.862 Std Dev: (+/-0.284) for the following Parameters: {'alpha': 0.005, 'hidden_layer_sizes': (5, 5), 'learning_rate': 'adaptive', 'max_iter': 1200, 'solver': 'adam'}\n",
    "sgd best: Mean: 0.959 Std Dev: (+/-0.005) for the following Parameters: {'alpha': 0.0001, 'hidden_layer_sizes': (100, 10, 50), 'learning_rate': 'constant', 'max_iter': 1200, 'solver': 'sgd'}\n",
    "sgd worst: Mean: 0.857 Std Dev: (+/-0.277) for the following Parameters: {'alpha': 0.005, 'hidden_layer_sizes': (5, 5), 'learning_rate': 'adaptive', 'max_iter': 1000, 'solver': 'sgd'}\n",
    "lbfgs best: Mean: 0.966 Std Dev: (+/-0.025) for the following Parameters: {'alpha': 0.005, 'hidden_layer_sizes': (5, 5), 'learning_rate': 'adaptive', 'max_iter': 1200, 'solver': 'lbfgs'}\n",
    "lbfgs worst: Mean: 0.850 Std Dev: (+/-0.272) for the following Parameters: {'alpha': 0.005, 'hidden_layer_sizes': (10, 5), 'learning_rate': 'adaptive', 'max_iter': 1200, 'solver': 'lbfgs'}\n",
    "                \n",
    "                "
   ]
  }
 ],
 "metadata": {
  "kernelspec": {
   "display_name": "Python 3",
   "language": "python",
   "name": "python3"
  },
  "language_info": {
   "codemirror_mode": {
    "name": "ipython",
    "version": 3
   },
   "file_extension": ".py",
   "mimetype": "text/x-python",
   "name": "python",
   "nbconvert_exporter": "python",
   "pygments_lexer": "ipython3",
   "version": "3.8.5"
  }
 },
 "nbformat": 4,
 "nbformat_minor": 4
}
