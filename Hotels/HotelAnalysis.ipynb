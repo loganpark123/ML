{
 "cells": [
  {
   "cell_type": "markdown",
   "metadata": {},
   "source": [
    "# Hotel Reservation Analysis\n",
    "#### By Logan Parker"
   ]
  },
  {
   "cell_type": "code",
   "execution_count": 2,
   "metadata": {
    "hideCode": false,
    "hideOutput": false,
    "tags": [
     "remove-cell"
    ]
   },
   "outputs": [],
   "source": [
    "import numpy as np # linear algebra\n",
    "import pandas as pd # data processing, CSV file I/O (e.g. pd.read_csv)\n",
    "import matplotlib.pyplot as plt # data visualization\n",
    "import seaborn as sns # statistical data visualization\n",
    "%matplotlib inline"
   ]
  },
  {
   "cell_type": "code",
   "execution_count": 25,
   "metadata": {},
   "outputs": [],
   "source": [
    "resort = pd.read_csv(\"H1.csv\")\n",
    "city = pd.read_csv(\"H2.csv\")\n",
    "length = len(resort)"
   ]
  },
  {
   "cell_type": "code",
   "execution_count": 242,
   "metadata": {},
   "outputs": [],
   "source": [
    "\n",
    "alpha3 = pd.read_csv('wikipedia-iso-country-codes.csv')  \n",
    "alpha3 = alpha3.iloc[:,2:4]\n",
    "codes = dict(alpha3.values)\n"
   ]
  },
  {
   "cell_type": "markdown",
   "metadata": {},
   "source": [
    "## Pre-Algorithmic analysis"
   ]
  },
  {
   "cell_type": "code",
   "execution_count": 30,
   "metadata": {},
   "outputs": [
    {
     "data": {
      "text/plain": [
       "(40060, 31)"
      ]
     },
     "execution_count": 30,
     "metadata": {},
     "output_type": "execute_result"
    }
   ],
   "source": [
    "resort.shape"
   ]
  },
  {
   "cell_type": "markdown",
   "metadata": {},
   "source": [
    "#### As we can see there are 40,060 records with 31 attributes."
   ]
  },
  {
   "cell_type": "code",
   "execution_count": 5,
   "metadata": {},
   "outputs": [
    {
     "data": {
      "text/html": [
       "<div>\n",
       "<style scoped>\n",
       "    .dataframe tbody tr th:only-of-type {\n",
       "        vertical-align: middle;\n",
       "    }\n",
       "\n",
       "    .dataframe tbody tr th {\n",
       "        vertical-align: top;\n",
       "    }\n",
       "\n",
       "    .dataframe thead th {\n",
       "        text-align: right;\n",
       "    }\n",
       "</style>\n",
       "<table border=\"1\" class=\"dataframe\">\n",
       "  <thead>\n",
       "    <tr style=\"text-align: right;\">\n",
       "      <th></th>\n",
       "      <th>IsCanceled</th>\n",
       "      <th>LeadTime</th>\n",
       "      <th>ArrivalDateYear</th>\n",
       "      <th>ArrivalDateMonth</th>\n",
       "      <th>ArrivalDateWeekNumber</th>\n",
       "      <th>ArrivalDateDayOfMonth</th>\n",
       "      <th>StaysInWeekendNights</th>\n",
       "      <th>StaysInWeekNights</th>\n",
       "      <th>Adults</th>\n",
       "      <th>Children</th>\n",
       "      <th>...</th>\n",
       "      <th>DepositType</th>\n",
       "      <th>Agent</th>\n",
       "      <th>Company</th>\n",
       "      <th>DaysInWaitingList</th>\n",
       "      <th>CustomerType</th>\n",
       "      <th>ADR</th>\n",
       "      <th>RequiredCarParkingSpaces</th>\n",
       "      <th>TotalOfSpecialRequests</th>\n",
       "      <th>ReservationStatus</th>\n",
       "      <th>ReservationStatusDate</th>\n",
       "    </tr>\n",
       "  </thead>\n",
       "  <tbody>\n",
       "    <tr>\n",
       "      <th>0</th>\n",
       "      <td>0</td>\n",
       "      <td>342</td>\n",
       "      <td>2015</td>\n",
       "      <td>July</td>\n",
       "      <td>27</td>\n",
       "      <td>1</td>\n",
       "      <td>0</td>\n",
       "      <td>0</td>\n",
       "      <td>2</td>\n",
       "      <td>0</td>\n",
       "      <td>...</td>\n",
       "      <td>No Deposit</td>\n",
       "      <td>NULL</td>\n",
       "      <td>NULL</td>\n",
       "      <td>0</td>\n",
       "      <td>Transient</td>\n",
       "      <td>0.0</td>\n",
       "      <td>0</td>\n",
       "      <td>0</td>\n",
       "      <td>Check-Out</td>\n",
       "      <td>2015-07-01</td>\n",
       "    </tr>\n",
       "    <tr>\n",
       "      <th>1</th>\n",
       "      <td>0</td>\n",
       "      <td>737</td>\n",
       "      <td>2015</td>\n",
       "      <td>July</td>\n",
       "      <td>27</td>\n",
       "      <td>1</td>\n",
       "      <td>0</td>\n",
       "      <td>0</td>\n",
       "      <td>2</td>\n",
       "      <td>0</td>\n",
       "      <td>...</td>\n",
       "      <td>No Deposit</td>\n",
       "      <td>NULL</td>\n",
       "      <td>NULL</td>\n",
       "      <td>0</td>\n",
       "      <td>Transient</td>\n",
       "      <td>0.0</td>\n",
       "      <td>0</td>\n",
       "      <td>0</td>\n",
       "      <td>Check-Out</td>\n",
       "      <td>2015-07-01</td>\n",
       "    </tr>\n",
       "    <tr>\n",
       "      <th>2</th>\n",
       "      <td>0</td>\n",
       "      <td>7</td>\n",
       "      <td>2015</td>\n",
       "      <td>July</td>\n",
       "      <td>27</td>\n",
       "      <td>1</td>\n",
       "      <td>0</td>\n",
       "      <td>1</td>\n",
       "      <td>1</td>\n",
       "      <td>0</td>\n",
       "      <td>...</td>\n",
       "      <td>No Deposit</td>\n",
       "      <td>NULL</td>\n",
       "      <td>NULL</td>\n",
       "      <td>0</td>\n",
       "      <td>Transient</td>\n",
       "      <td>75.0</td>\n",
       "      <td>0</td>\n",
       "      <td>0</td>\n",
       "      <td>Check-Out</td>\n",
       "      <td>2015-07-02</td>\n",
       "    </tr>\n",
       "    <tr>\n",
       "      <th>3</th>\n",
       "      <td>0</td>\n",
       "      <td>13</td>\n",
       "      <td>2015</td>\n",
       "      <td>July</td>\n",
       "      <td>27</td>\n",
       "      <td>1</td>\n",
       "      <td>0</td>\n",
       "      <td>1</td>\n",
       "      <td>1</td>\n",
       "      <td>0</td>\n",
       "      <td>...</td>\n",
       "      <td>No Deposit</td>\n",
       "      <td>304</td>\n",
       "      <td>NULL</td>\n",
       "      <td>0</td>\n",
       "      <td>Transient</td>\n",
       "      <td>75.0</td>\n",
       "      <td>0</td>\n",
       "      <td>0</td>\n",
       "      <td>Check-Out</td>\n",
       "      <td>2015-07-02</td>\n",
       "    </tr>\n",
       "    <tr>\n",
       "      <th>4</th>\n",
       "      <td>0</td>\n",
       "      <td>14</td>\n",
       "      <td>2015</td>\n",
       "      <td>July</td>\n",
       "      <td>27</td>\n",
       "      <td>1</td>\n",
       "      <td>0</td>\n",
       "      <td>2</td>\n",
       "      <td>2</td>\n",
       "      <td>0</td>\n",
       "      <td>...</td>\n",
       "      <td>No Deposit</td>\n",
       "      <td>240</td>\n",
       "      <td>NULL</td>\n",
       "      <td>0</td>\n",
       "      <td>Transient</td>\n",
       "      <td>98.0</td>\n",
       "      <td>0</td>\n",
       "      <td>1</td>\n",
       "      <td>Check-Out</td>\n",
       "      <td>2015-07-03</td>\n",
       "    </tr>\n",
       "  </tbody>\n",
       "</table>\n",
       "<p>5 rows × 31 columns</p>\n",
       "</div>"
      ],
      "text/plain": [
       "   IsCanceled  LeadTime  ArrivalDateYear ArrivalDateMonth  \\\n",
       "0           0       342             2015             July   \n",
       "1           0       737             2015             July   \n",
       "2           0         7             2015             July   \n",
       "3           0        13             2015             July   \n",
       "4           0        14             2015             July   \n",
       "\n",
       "   ArrivalDateWeekNumber  ArrivalDateDayOfMonth  StaysInWeekendNights  \\\n",
       "0                     27                      1                     0   \n",
       "1                     27                      1                     0   \n",
       "2                     27                      1                     0   \n",
       "3                     27                      1                     0   \n",
       "4                     27                      1                     0   \n",
       "\n",
       "   StaysInWeekNights  Adults  Children  ...      DepositType        Agent  \\\n",
       "0                  0       2         0  ...  No Deposit              NULL   \n",
       "1                  0       2         0  ...  No Deposit              NULL   \n",
       "2                  1       1         0  ...  No Deposit              NULL   \n",
       "3                  1       1         0  ...  No Deposit               304   \n",
       "4                  2       2         0  ...  No Deposit               240   \n",
       "\n",
       "       Company DaysInWaitingList CustomerType   ADR  RequiredCarParkingSpaces  \\\n",
       "0         NULL                 0    Transient   0.0                         0   \n",
       "1         NULL                 0    Transient   0.0                         0   \n",
       "2         NULL                 0    Transient  75.0                         0   \n",
       "3         NULL                 0    Transient  75.0                         0   \n",
       "4         NULL                 0    Transient  98.0                         0   \n",
       "\n",
       "   TotalOfSpecialRequests ReservationStatus ReservationStatusDate  \n",
       "0                       0         Check-Out            2015-07-01  \n",
       "1                       0         Check-Out            2015-07-01  \n",
       "2                       0         Check-Out            2015-07-02  \n",
       "3                       0         Check-Out            2015-07-02  \n",
       "4                       1         Check-Out            2015-07-03  \n",
       "\n",
       "[5 rows x 31 columns]"
      ]
     },
     "execution_count": 5,
     "metadata": {},
     "output_type": "execute_result"
    }
   ],
   "source": [
    "resort.head()"
   ]
  },
  {
   "cell_type": "code",
   "execution_count": 6,
   "metadata": {},
   "outputs": [
    {
     "data": {
      "text/html": [
       "<div>\n",
       "<style scoped>\n",
       "    .dataframe tbody tr th:only-of-type {\n",
       "        vertical-align: middle;\n",
       "    }\n",
       "\n",
       "    .dataframe tbody tr th {\n",
       "        vertical-align: top;\n",
       "    }\n",
       "\n",
       "    .dataframe thead th {\n",
       "        text-align: right;\n",
       "    }\n",
       "</style>\n",
       "<table border=\"1\" class=\"dataframe\">\n",
       "  <thead>\n",
       "    <tr style=\"text-align: right;\">\n",
       "      <th></th>\n",
       "      <th>IsCanceled</th>\n",
       "      <th>LeadTime</th>\n",
       "      <th>ArrivalDateYear</th>\n",
       "      <th>ArrivalDateWeekNumber</th>\n",
       "      <th>ArrivalDateDayOfMonth</th>\n",
       "      <th>StaysInWeekendNights</th>\n",
       "      <th>StaysInWeekNights</th>\n",
       "      <th>Adults</th>\n",
       "      <th>Children</th>\n",
       "      <th>Babies</th>\n",
       "      <th>IsRepeatedGuest</th>\n",
       "      <th>PreviousCancellations</th>\n",
       "      <th>PreviousBookingsNotCanceled</th>\n",
       "      <th>BookingChanges</th>\n",
       "      <th>DaysInWaitingList</th>\n",
       "      <th>ADR</th>\n",
       "      <th>RequiredCarParkingSpaces</th>\n",
       "      <th>TotalOfSpecialRequests</th>\n",
       "    </tr>\n",
       "  </thead>\n",
       "  <tbody>\n",
       "    <tr>\n",
       "      <th>count</th>\n",
       "      <td>40060.000000</td>\n",
       "      <td>40060.000000</td>\n",
       "      <td>40060.000000</td>\n",
       "      <td>40060.000000</td>\n",
       "      <td>40060.000000</td>\n",
       "      <td>40060.000000</td>\n",
       "      <td>40060.000000</td>\n",
       "      <td>40060.000000</td>\n",
       "      <td>40060.000000</td>\n",
       "      <td>40060.000000</td>\n",
       "      <td>40060.000000</td>\n",
       "      <td>40060.000000</td>\n",
       "      <td>40060.000000</td>\n",
       "      <td>40060.000000</td>\n",
       "      <td>40060.000000</td>\n",
       "      <td>40060.000000</td>\n",
       "      <td>40060.000000</td>\n",
       "      <td>40060.00000</td>\n",
       "    </tr>\n",
       "    <tr>\n",
       "      <th>mean</th>\n",
       "      <td>0.277634</td>\n",
       "      <td>92.675686</td>\n",
       "      <td>2016.121443</td>\n",
       "      <td>27.140864</td>\n",
       "      <td>15.821243</td>\n",
       "      <td>1.189815</td>\n",
       "      <td>3.128732</td>\n",
       "      <td>1.867149</td>\n",
       "      <td>0.128682</td>\n",
       "      <td>0.013904</td>\n",
       "      <td>0.044383</td>\n",
       "      <td>0.101722</td>\n",
       "      <td>0.146455</td>\n",
       "      <td>0.287968</td>\n",
       "      <td>0.527758</td>\n",
       "      <td>94.952930</td>\n",
       "      <td>0.138068</td>\n",
       "      <td>0.61977</td>\n",
       "    </tr>\n",
       "    <tr>\n",
       "      <th>std</th>\n",
       "      <td>0.447837</td>\n",
       "      <td>97.285315</td>\n",
       "      <td>0.722347</td>\n",
       "      <td>14.005441</td>\n",
       "      <td>8.883708</td>\n",
       "      <td>1.147812</td>\n",
       "      <td>2.461329</td>\n",
       "      <td>0.697285</td>\n",
       "      <td>0.445195</td>\n",
       "      <td>0.118998</td>\n",
       "      <td>0.205948</td>\n",
       "      <td>1.335115</td>\n",
       "      <td>1.001955</td>\n",
       "      <td>0.726548</td>\n",
       "      <td>7.428580</td>\n",
       "      <td>61.442418</td>\n",
       "      <td>0.351001</td>\n",
       "      <td>0.81393</td>\n",
       "    </tr>\n",
       "    <tr>\n",
       "      <th>min</th>\n",
       "      <td>0.000000</td>\n",
       "      <td>0.000000</td>\n",
       "      <td>2015.000000</td>\n",
       "      <td>1.000000</td>\n",
       "      <td>1.000000</td>\n",
       "      <td>0.000000</td>\n",
       "      <td>0.000000</td>\n",
       "      <td>0.000000</td>\n",
       "      <td>0.000000</td>\n",
       "      <td>0.000000</td>\n",
       "      <td>0.000000</td>\n",
       "      <td>0.000000</td>\n",
       "      <td>0.000000</td>\n",
       "      <td>0.000000</td>\n",
       "      <td>0.000000</td>\n",
       "      <td>-6.380000</td>\n",
       "      <td>0.000000</td>\n",
       "      <td>0.00000</td>\n",
       "    </tr>\n",
       "    <tr>\n",
       "      <th>25%</th>\n",
       "      <td>0.000000</td>\n",
       "      <td>10.000000</td>\n",
       "      <td>2016.000000</td>\n",
       "      <td>16.000000</td>\n",
       "      <td>8.000000</td>\n",
       "      <td>0.000000</td>\n",
       "      <td>1.000000</td>\n",
       "      <td>2.000000</td>\n",
       "      <td>0.000000</td>\n",
       "      <td>0.000000</td>\n",
       "      <td>0.000000</td>\n",
       "      <td>0.000000</td>\n",
       "      <td>0.000000</td>\n",
       "      <td>0.000000</td>\n",
       "      <td>0.000000</td>\n",
       "      <td>50.000000</td>\n",
       "      <td>0.000000</td>\n",
       "      <td>0.00000</td>\n",
       "    </tr>\n",
       "    <tr>\n",
       "      <th>50%</th>\n",
       "      <td>0.000000</td>\n",
       "      <td>57.000000</td>\n",
       "      <td>2016.000000</td>\n",
       "      <td>28.000000</td>\n",
       "      <td>16.000000</td>\n",
       "      <td>1.000000</td>\n",
       "      <td>3.000000</td>\n",
       "      <td>2.000000</td>\n",
       "      <td>0.000000</td>\n",
       "      <td>0.000000</td>\n",
       "      <td>0.000000</td>\n",
       "      <td>0.000000</td>\n",
       "      <td>0.000000</td>\n",
       "      <td>0.000000</td>\n",
       "      <td>0.000000</td>\n",
       "      <td>75.000000</td>\n",
       "      <td>0.000000</td>\n",
       "      <td>0.00000</td>\n",
       "    </tr>\n",
       "    <tr>\n",
       "      <th>75%</th>\n",
       "      <td>1.000000</td>\n",
       "      <td>155.000000</td>\n",
       "      <td>2017.000000</td>\n",
       "      <td>38.000000</td>\n",
       "      <td>24.000000</td>\n",
       "      <td>2.000000</td>\n",
       "      <td>5.000000</td>\n",
       "      <td>2.000000</td>\n",
       "      <td>0.000000</td>\n",
       "      <td>0.000000</td>\n",
       "      <td>0.000000</td>\n",
       "      <td>0.000000</td>\n",
       "      <td>0.000000</td>\n",
       "      <td>0.000000</td>\n",
       "      <td>0.000000</td>\n",
       "      <td>125.000000</td>\n",
       "      <td>0.000000</td>\n",
       "      <td>1.00000</td>\n",
       "    </tr>\n",
       "    <tr>\n",
       "      <th>max</th>\n",
       "      <td>1.000000</td>\n",
       "      <td>737.000000</td>\n",
       "      <td>2017.000000</td>\n",
       "      <td>53.000000</td>\n",
       "      <td>31.000000</td>\n",
       "      <td>19.000000</td>\n",
       "      <td>50.000000</td>\n",
       "      <td>55.000000</td>\n",
       "      <td>10.000000</td>\n",
       "      <td>2.000000</td>\n",
       "      <td>1.000000</td>\n",
       "      <td>26.000000</td>\n",
       "      <td>30.000000</td>\n",
       "      <td>17.000000</td>\n",
       "      <td>185.000000</td>\n",
       "      <td>508.000000</td>\n",
       "      <td>8.000000</td>\n",
       "      <td>5.00000</td>\n",
       "    </tr>\n",
       "  </tbody>\n",
       "</table>\n",
       "</div>"
      ],
      "text/plain": [
       "         IsCanceled      LeadTime  ArrivalDateYear  ArrivalDateWeekNumber  \\\n",
       "count  40060.000000  40060.000000     40060.000000           40060.000000   \n",
       "mean       0.277634     92.675686      2016.121443              27.140864   \n",
       "std        0.447837     97.285315         0.722347              14.005441   \n",
       "min        0.000000      0.000000      2015.000000               1.000000   \n",
       "25%        0.000000     10.000000      2016.000000              16.000000   \n",
       "50%        0.000000     57.000000      2016.000000              28.000000   \n",
       "75%        1.000000    155.000000      2017.000000              38.000000   \n",
       "max        1.000000    737.000000      2017.000000              53.000000   \n",
       "\n",
       "       ArrivalDateDayOfMonth  StaysInWeekendNights  StaysInWeekNights  \\\n",
       "count           40060.000000          40060.000000       40060.000000   \n",
       "mean               15.821243              1.189815           3.128732   \n",
       "std                 8.883708              1.147812           2.461329   \n",
       "min                 1.000000              0.000000           0.000000   \n",
       "25%                 8.000000              0.000000           1.000000   \n",
       "50%                16.000000              1.000000           3.000000   \n",
       "75%                24.000000              2.000000           5.000000   \n",
       "max                31.000000             19.000000          50.000000   \n",
       "\n",
       "             Adults      Children        Babies  IsRepeatedGuest  \\\n",
       "count  40060.000000  40060.000000  40060.000000     40060.000000   \n",
       "mean       1.867149      0.128682      0.013904         0.044383   \n",
       "std        0.697285      0.445195      0.118998         0.205948   \n",
       "min        0.000000      0.000000      0.000000         0.000000   \n",
       "25%        2.000000      0.000000      0.000000         0.000000   \n",
       "50%        2.000000      0.000000      0.000000         0.000000   \n",
       "75%        2.000000      0.000000      0.000000         0.000000   \n",
       "max       55.000000     10.000000      2.000000         1.000000   \n",
       "\n",
       "       PreviousCancellations  PreviousBookingsNotCanceled  BookingChanges  \\\n",
       "count           40060.000000                 40060.000000    40060.000000   \n",
       "mean                0.101722                     0.146455        0.287968   \n",
       "std                 1.335115                     1.001955        0.726548   \n",
       "min                 0.000000                     0.000000        0.000000   \n",
       "25%                 0.000000                     0.000000        0.000000   \n",
       "50%                 0.000000                     0.000000        0.000000   \n",
       "75%                 0.000000                     0.000000        0.000000   \n",
       "max                26.000000                    30.000000       17.000000   \n",
       "\n",
       "       DaysInWaitingList           ADR  RequiredCarParkingSpaces  \\\n",
       "count       40060.000000  40060.000000              40060.000000   \n",
       "mean            0.527758     94.952930                  0.138068   \n",
       "std             7.428580     61.442418                  0.351001   \n",
       "min             0.000000     -6.380000                  0.000000   \n",
       "25%             0.000000     50.000000                  0.000000   \n",
       "50%             0.000000     75.000000                  0.000000   \n",
       "75%             0.000000    125.000000                  0.000000   \n",
       "max           185.000000    508.000000                  8.000000   \n",
       "\n",
       "       TotalOfSpecialRequests  \n",
       "count             40060.00000  \n",
       "mean                  0.61977  \n",
       "std                   0.81393  \n",
       "min                   0.00000  \n",
       "25%                   0.00000  \n",
       "50%                   0.00000  \n",
       "75%                   1.00000  \n",
       "max                   5.00000  "
      ]
     },
     "execution_count": 6,
     "metadata": {},
     "output_type": "execute_result"
    }
   ],
   "source": [
    "resort.describe()"
   ]
  },
  {
   "cell_type": "markdown",
   "metadata": {},
   "source": [
    "### Some Notable findings from the describe function\n",
    "- 27 Percent of the data represents cancellation\n",
    "- The average time between book date and check-in was 92 days\n",
    "- The average trip took place at the end of June\n",
    "- The average Number of Adults was 2\n",
    "- The average Number of Childred was 0\n",
    "- Most guests are first timers and therefore a small number of people have previous cancellations\n",
    "- The Average Daily rate was $95\n"
   ]
  },
  {
   "cell_type": "code",
   "execution_count": 29,
   "metadata": {},
   "outputs": [
    {
     "data": {
      "image/png": "[encoded data removed]",
      "text/plain": [
       "<Figure size 432x288 with 1 Axes>"
      ]
     },
     "metadata": {
      "needs_background": "light"
     },
     "output_type": "display_data"
    }
   ],
   "source": [
    "plt.xlabel('Cancellation Status')\n",
    "plt.ylabel('Count')\n",
    "plt.title('Number of Cancellations')\n",
    "bar = plt.bar(['Not Cancelled','Cancelled'],np.array(resort.groupby(['IsCanceled']).size()), color = [\"Green\", \"red\"])\n",
    "for rect in bar:\n",
    "    height = rect.get_height()\n",
    "    percent = height/length * 100\n",
    "    plt.text(rect.get_x() + rect.get_width()/2.0, height, '%d (%s%%)' % (int(height), int(percent)), ha='center', va='bottom')\n",
    "plt.show()"
   ]
  },
  {
   "cell_type": "markdown",
   "metadata": {},
   "source": [
    "#### Although the majority of customers do not cancel, it is the Cancelled which we are interested in. This is sort of like an anomaly detection. We want to know what are the signs and symptoms of a customer who is about to cancel"
   ]
  },
  {
   "cell_type": "markdown",
   "metadata": {},
   "source": [
    "## An analysis of the coorrelation between Attributes"
   ]
  },
  {
   "cell_type": "code",
   "execution_count": 35,
   "metadata": {},
   "outputs": [
    {
     "data": {
      "image/png": "[encoded data removed]",
      "text/plain": [
       "<Figure size 432x288 with 2 Axes>"
      ]
     },
     "metadata": {
      "needs_background": "light"
     },
     "output_type": "display_data"
    }
   ],
   "source": [
    "corrMatrix = resort.corr()\n",
    "sns.heatmap(corrMatrix)\n",
    "plt.show()"
   ]
  },
  {
   "cell_type": "markdown",
   "metadata": {},
   "source": [
    "### This heatmap illustrates a few interesting things.\n",
    "- Lead time and cancellation are fairly correlated. When people are sitting on their reservation for a long time, it leaves plenty of time to change their mind. \n",
    "- Stays in week and weekend nights are highly correlated to lead time. This makes sense because a longer stay would need to be booked further in advance\n",
    "- Finally, I would like to point out that average daily rate is correlated from most to least to:\n",
    "    1. Number of children\n",
    "    2. Number of adults\n",
    "    3. Total special requests\n",
    "    4. Length of stay"
   ]
  },
  {
   "cell_type": "markdown",
   "metadata": {},
   "source": [
    "## Cleaning Data"
   ]
  },
  {
   "cell_type": "markdown",
   "metadata": {},
   "source": [
    "### To clean this data, I took 4 distinct steps:\n",
    "    1. Drop Status Date and Status as these are not important\n",
    "    2. Numericized the non-numeric values. Notably country code replaced Alpha3 code\n",
    "    3. Corrected the data types\n",
    "    4. Replaced null values with zero to minimize lost information\n",
    "    "
   ]
  },
  {
   "cell_type": "code",
   "execution_count": 196,
   "metadata": {
    "hideCode": false
   },
   "outputs": [],
   "source": [
    "cleaned = resort.drop(labels=['ReservationStatusDate','ReservationStatus'], axis=1)\n",
    "cleaned['ArrivalDateMonth'] = cleaned['ArrivalDateMonth'].replace({\"January\": \"01\", \"February\": \"02\", \"March\": \"03\", \"April\": \"04\", \"May\": \"05\", \"June\": \"06\", \"July\": \"07\", \"August\": \"08\", \"September\": \"09\", \"October\": \"10\", \"November\": \"11\", \"December\": \"12\"})\n",
    "cleaned['ArrivalDateMonth'] = cleaned['ArrivalDateMonth'].astype(int)\n",
    "cleaned['Country'] = cleaned['Country'].replace(codes)\n",
    "cleaned['Country'] = cleaned['Country'].replace([\"CN\",np.nan],[156,0])\n",
    "cleaned['Country'] = cleaned['Country'].astype(int)\n",
    "cleaned['Meal'] = cleaned['Meal'].replace(['Undefined','SC       ','FB       ','HB       ','BB       '],[0,1,2,3,4])\n",
    "cleaned['MarketSegment'] = cleaned['MarketSegment'].replace(['Direct', 'Corporate', 'Online TA', 'Offline TA/TO',\n",
    "       'Complementary', 'Groups'], [1,2,3,4,5,6])\n",
    "cleaned['DistributionChannel'] = cleaned['DistributionChannel'].replace(['Direct', 'Corporate', 'TA/TO', 'Undefined'], [1,2,3,0])\n",
    "cleaned['ReservedRoomType'] = cleaned['ReservedRoomType'].replace(['C               ', 'A               ', 'D               ',\n",
    "       'E               ', 'G               ', 'F               ',\n",
    "       'H               ', 'L               ', 'P               ',\n",
    "       'B               '], [1,2,3,4,5,6,7,8,9,10])\n",
    "cleaned['AssignedRoomType'] = cleaned['AssignedRoomType'].replace(['C               ', 'A               ', 'D               ',\n",
    "       'E               ', 'G               ', 'F               ',\n",
    "       'I               ', 'B               ', 'H               ',\n",
    "       'P               ', 'L               '], [1,2,3,4,5,6,7,8,9,10,11])\n",
    "cleaned['DepositType'] = cleaned['DepositType'].replace(['No Deposit     ', 'Refundable     ', 'Non Refund     '], [1,2,3])\n",
    "cleaned['Agent'] = cleaned['Agent'].replace(['       NULL'], [0])\n",
    "cleaned['Agent'] = cleaned['Agent'].astype(int)\n",
    "cleaned['Company'] = cleaned['Company'].replace(['       NULL'], [0])\n",
    "cleaned['Company'] = cleaned['Company'].astype(int)\n",
    "cleaned['CustomerType'] = cleaned['CustomerType'].replace(['Transient', 'Contract', 'Transient-Party', 'Group'], [1,2,3,4])\n",
    "cleaned['IsCanceled'] = cleaned['IsCanceled'].astype(float)\n",
    "\n",
    "#cleaned = pd.get_dummies(cleaned)\n"
   ]
  },
  {
   "cell_type": "markdown",
   "metadata": {},
   "source": [
    "## Training and Testing of Random Forest Regressor"
   ]
  },
  {
   "cell_type": "markdown",
   "metadata": {},
   "source": [
    "#### The next step was to split the data into 80/20 chunks for train and test respectively"
   ]
  },
  {
   "cell_type": "code",
   "execution_count": 209,
   "metadata": {},
   "outputs": [],
   "source": [
    "y = cleaned['IsCanceled']\n",
    "\n",
    "X = cleaned.drop(labels=['IsCanceled'], axis=1)\n",
    "from sklearn.model_selection import train_test_split\n",
    "\n",
    "X_train, X_test, y_train, y_test = train_test_split(X, y, test_size = 0.2, random_state = 9)"
   ]
  },
  {
   "cell_type": "markdown",
   "metadata": {},
   "source": [
    "#### Using this split data, I created a Random Forest Regressor with 1000 trees and trained it on the training data "
   ]
  },
  {
   "cell_type": "code",
   "execution_count": 210,
   "metadata": {},
   "outputs": [],
   "source": [
    "from sklearn.ensemble import RandomForestRegressor\n",
    "# Instantiate model with 1000 decision trees\n",
    "rf = RandomForestRegressor(n_estimators = 1000, random_state = 42)\n",
    "# Train the model on training data\n",
    "rf.fit(X_train, y_train);"
   ]
  },
  {
   "cell_type": "code",
   "execution_count": 211,
   "metadata": {},
   "outputs": [
    {
     "name": "stdout",
     "output_type": "stream",
     "text": [
      "Mean Absolute Error:\n",
      " 0.09\n"
     ]
    }
   ],
   "source": [
    "predictions = rf.predict(X_test)\n",
    "predictions = np.round(predictions)\n",
    "# Calculate the absolute errors\n",
    "errors = abs(predictions - y_test)\n",
    "# Print out the mean absolute error (mae)\n",
    "print('Mean Absolute Error:\\n', round(np.mean(errors), 2))"
   ]
  },
  {
   "cell_type": "code",
   "execution_count": 213,
   "metadata": {},
   "outputs": [
    {
     "name": "stdout",
     "output_type": "stream",
     "text": [
      "Confusion Matrix:\n",
      "Classification Report:\n",
      "              precision    recall  f1-score   support\n",
      "\n",
      "         0.0       0.93      0.94      0.93      5772\n",
      "         1.0       0.84      0.82      0.83      2240\n",
      "\n",
      "    accuracy                           0.91      8012\n",
      "   macro avg       0.89      0.88      0.88      8012\n",
      "weighted avg       0.90      0.91      0.91      8012\n",
      "\n"
     ]
    },
    {
     "data": {
      "image/png": "[encoded data removed]",
      "text/plain": [
       "<Figure size 432x288 with 2 Axes>"
      ]
     },
     "metadata": {
      "needs_background": "light"
     },
     "output_type": "display_data"
    }
   ],
   "source": [
    "from sklearn.metrics import confusion_matrix\n",
    "from sklearn.metrics import classification_report\n",
    "print(\"Confusion Matrix:\")\n",
    "cf_matrix = confusion_matrix(y_test,predictions)\n",
    "sns.heatmap(cf_matrix, annot=True, fmt='g')\n",
    "print(\"Classification Report:\")\n",
    "print(classification_report(y_test,predictions))"
   ]
  },
  {
   "cell_type": "markdown",
   "metadata": {},
   "source": [
    "#### The model is performing extremely well at predicting whether a person will cancel their reservation or not. The accuracy of the cancellation detection is 84%."
   ]
  },
  {
   "cell_type": "code",
   "execution_count": 244,
   "metadata": {},
   "outputs": [
    {
     "data": {
      "image/png": "[encoded data removed]",
      "text/plain": [
       "<Figure size 432x288 with 1 Axes>"
      ]
     },
     "metadata": {
      "needs_background": "light"
     },
     "output_type": "display_data"
    }
   ],
   "source": [
    "importance = rf.feature_importances_\n",
    "# summarize feature importance\n",
    "#for i,v in enumerate(importance):\n",
    "#    print('%s, Score: %.5f' % (X_train.columns[i],v))\n",
    "# plot feature importance\n",
    "plt.barh([x for x in range(len(importance))], importance)\n",
    "plt.yticks(range(len(importance)),X_train.columns)\n",
    "plt.show()"
   ]
  },
  {
   "cell_type": "markdown",
   "metadata": {},
   "source": [
    "### We can see that the 5 most important factors to consider when predicting whether a customer will cancel their reservation or not are:\n",
    "    1. Country they are from\n",
    "    2. Lead Time\n",
    "    3. Deposit Type\n",
    "    4. Average Daily Rate\n",
    "    5. Market Segment\n",
    "\n",
    "    "
   ]
  },
  {
   "cell_type": "markdown",
   "metadata": {},
   "source": [
    "#### With this knowledge, lets see how few factors we can use to still accurately detect the cancellation probability. In the following RandomForestRegressor, I am only using:\n",
    "- Country\n",
    "- LeadTime\n",
    "- DepositType\n",
    "- Average Daily Rate\n",
    "#### All of these factors are known at the time of booking, so this regressor would be great for immediatly identifying high-risk bookings. "
   ]
  },
  {
   "cell_type": "code",
   "execution_count": 257,
   "metadata": {},
   "outputs": [],
   "source": [
    "X_reduced = X_train[['Country','LeadTime','DepositType','ADR']]\n",
    "small_rf = RandomForestRegressor(n_estimators = 1000, random_state = 42)\n",
    "# Train the model on training data\n",
    "small_rf.fit(X_reduced, y_train);\n"
   ]
  },
  {
   "cell_type": "code",
   "execution_count": 261,
   "metadata": {},
   "outputs": [
    {
     "name": "stdout",
     "output_type": "stream",
     "text": [
      "Mean Absolute Error:\n",
      " 0.18\n",
      "Confusion Matrix:\n",
      "Classification Report:\n",
      "              precision    recall  f1-score   support\n",
      "\n",
      "         0.0       0.86      0.90      0.88      5772\n",
      "         1.0       0.70      0.63      0.66      2240\n",
      "\n",
      "    accuracy                           0.82      8012\n",
      "   macro avg       0.78      0.76      0.77      8012\n",
      "weighted avg       0.82      0.82      0.82      8012\n",
      "\n"
     ]
    },
    {
     "data": {
      "image/png": "[encoded data removed]",
      "text/plain": [
       "<Figure size 432x288 with 2 Axes>"
      ]
     },
     "metadata": {
      "needs_background": "light"
     },
     "output_type": "display_data"
    }
   ],
   "source": [
    "reduced_test = X_test[['Country','LeadTime','DepositType','ADR']]\n",
    "predictions = small_rf.predict(reduced_test)\n",
    "predictions = np.round(predictions)\n",
    "# Calculate the absolute errors\n",
    "errors = abs(predictions - y_test)\n",
    "# Print out the mean absolute error (mae)\n",
    "print('Mean Absolute Error:\\n', round(np.mean(errors), 2))\n",
    "\n",
    "print(\"Confusion Matrix:\")\n",
    "cf_matrix = confusion_matrix(y_test,predictions)\n",
    "sns.heatmap(cf_matrix, annot=True, fmt='g')\n",
    "print(\"Classification Report:\")\n",
    "print(classification_report(y_test,predictions))"
   ]
  },
  {
   "cell_type": "markdown",
   "metadata": {},
   "source": [
    "## Final Report\n",
    "#### To the hotel management, \n",
    "####     I propose that we improve our capital gains by offering lower rates to people from countries which tend to cancel most often. We could call it a long distance discount. I also suggest that because people who book earlier frequently cancel their bookings, we check in on patrons and send special offers to those who have had their booking for the longest. Another way to combat cancellations is to require a deposit for substantial lead times. This prevents the resort from holding capacity hostage for months only to have the booking cancelled. I also suggest we offer a lower rate or a room type switch to those who attempt to cancel. People love free upgrades and will do anything for them. As we found, some agents are quite effective at user retention. We should offer bonuses to those agents and businesses who have clients who do not cancel. A great way to get more returning customers would be to offer a returning customer discount. \n",
    "\n",
    "#### Additionally, Targeting the high-risk clients as identified by the second reducedTree, and offering them specials or calling to show excellent customer service would be a great tool to reduce the number of cancellations. It's crazy how easy it is to predict people's cancellation habits based off of these things! Let's take advantage of it and profit off of it (sounds familiar)!"
   ]
  },
  {
   "cell_type": "code",
   "execution_count": null,
   "metadata": {},
   "outputs": [],
   "source": []
  }
 ],
 "metadata": {
  "kernelspec": {
   "display_name": "Python 3",
   "language": "python",
   "name": "python3"
  },
  "language_info": {
   "codemirror_mode": {
    "name": "ipython",
    "version": 3
   },
   "file_extension": ".py",
   "mimetype": "text/x-python",
   "name": "python",
   "nbconvert_exporter": "python",
   "pygments_lexer": "ipython3",
   "version": "3.8.5"
  }
 },
 "nbformat": 4,
 "nbformat_minor": 4
}
